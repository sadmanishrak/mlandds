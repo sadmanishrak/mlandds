{
 "cells": [
  {
   "cell_type": "code",
   "execution_count": 2,
   "id": "becoming-austria",
   "metadata": {},
   "outputs": [],
   "source": [
    "import numpy as np\n",
    "import pandas as pd"
   ]
  },
  {
   "cell_type": "code",
   "execution_count": 3,
   "id": "suffering-mother",
   "metadata": {},
   "outputs": [],
   "source": [
    "a3 = np.array([[[1, 2, 3],\n",
    "                [4, 5, 6]],\n",
    "               [[7, 8, 9],\n",
    "                [10, 11, 12]],\n",
    "               [[13, 14, 15],\n",
    "                [16, 17, 18]]])"
   ]
  },
  {
   "cell_type": "code",
   "execution_count": 4,
   "id": "crucial-dover",
   "metadata": {},
   "outputs": [
    {
     "data": {
      "text/plain": [
       "array([[[ 1,  2,  3],\n",
       "        [ 4,  5,  6]],\n",
       "\n",
       "       [[ 7,  8,  9],\n",
       "        [10, 11, 12]],\n",
       "\n",
       "       [[13, 14, 15],\n",
       "        [16, 17, 18]]])"
      ]
     },
     "execution_count": 4,
     "metadata": {},
     "output_type": "execute_result"
    }
   ],
   "source": [
    "a3"
   ]
  },
  {
   "cell_type": "markdown",
   "id": "personal-disabled",
   "metadata": {},
   "source": [
    "# DataTypes & Attributes"
   ]
  },
  {
   "cell_type": "code",
   "execution_count": 5,
   "id": "relative-vertex",
   "metadata": {},
   "outputs": [
    {
     "data": {
      "text/plain": [
       "array([1, 2, 3])"
      ]
     },
     "execution_count": 5,
     "metadata": {},
     "output_type": "execute_result"
    }
   ],
   "source": [
    "# NumPy's main data type is ndarray\n",
    "\n",
    "a1 = np.array([1,2,3])\n",
    "a1"
   ]
  },
  {
   "cell_type": "code",
   "execution_count": 6,
   "id": "needed-helena",
   "metadata": {},
   "outputs": [
    {
     "data": {
      "text/plain": [
       "numpy.ndarray"
      ]
     },
     "execution_count": 6,
     "metadata": {},
     "output_type": "execute_result"
    }
   ],
   "source": [
    "type(a1)"
   ]
  },
  {
   "cell_type": "code",
   "execution_count": 7,
   "id": "accurate-honolulu",
   "metadata": {},
   "outputs": [],
   "source": [
    "a2 = np.array([[1,2,3.3],[2,5,6.5]])\n",
    "\n",
    "a3 = np.array([[[1,2,3],\n",
    "                [4,5,6],\n",
    "                [7,8,9]],\n",
    "               [[10,11,12],\n",
    "                [13,14,15],\n",
    "                [16,17,18]]])"
   ]
  },
  {
   "cell_type": "code",
   "execution_count": 8,
   "id": "organic-beverage",
   "metadata": {},
   "outputs": [
    {
     "data": {
      "text/plain": [
       "array([[1. , 2. , 3.3],\n",
       "       [2. , 5. , 6.5]])"
      ]
     },
     "execution_count": 8,
     "metadata": {},
     "output_type": "execute_result"
    }
   ],
   "source": [
    "a2"
   ]
  },
  {
   "cell_type": "code",
   "execution_count": 9,
   "id": "false-queens",
   "metadata": {},
   "outputs": [
    {
     "data": {
      "text/plain": [
       "array([[[ 1,  2,  3],\n",
       "        [ 4,  5,  6],\n",
       "        [ 7,  8,  9]],\n",
       "\n",
       "       [[10, 11, 12],\n",
       "        [13, 14, 15],\n",
       "        [16, 17, 18]]])"
      ]
     },
     "execution_count": 9,
     "metadata": {},
     "output_type": "execute_result"
    }
   ],
   "source": [
    "a3"
   ]
  },
  {
   "cell_type": "code",
   "execution_count": 10,
   "id": "colored-replication",
   "metadata": {},
   "outputs": [
    {
     "data": {
      "text/plain": [
       "(3,)"
      ]
     },
     "execution_count": 10,
     "metadata": {},
     "output_type": "execute_result"
    }
   ],
   "source": [
    "a1.shape"
   ]
  },
  {
   "cell_type": "code",
   "execution_count": 11,
   "id": "exotic-freedom",
   "metadata": {},
   "outputs": [
    {
     "data": {
      "text/plain": [
       "(2, 3)"
      ]
     },
     "execution_count": 11,
     "metadata": {},
     "output_type": "execute_result"
    }
   ],
   "source": [
    "a2.shape"
   ]
  },
  {
   "cell_type": "code",
   "execution_count": 12,
   "id": "presidential-intensity",
   "metadata": {},
   "outputs": [
    {
     "data": {
      "text/plain": [
       "(2, 3, 3)"
      ]
     },
     "execution_count": 12,
     "metadata": {},
     "output_type": "execute_result"
    }
   ],
   "source": [
    "a3.shape"
   ]
  },
  {
   "cell_type": "code",
   "execution_count": 13,
   "id": "mounted-opposition",
   "metadata": {},
   "outputs": [
    {
     "data": {
      "text/plain": [
       "(1, 2, 3)"
      ]
     },
     "execution_count": 13,
     "metadata": {},
     "output_type": "execute_result"
    }
   ],
   "source": [
    "a1.ndim, a2.ndim, a3.ndim"
   ]
  },
  {
   "cell_type": "code",
   "execution_count": 14,
   "id": "pursuant-venezuela",
   "metadata": {},
   "outputs": [
    {
     "data": {
      "text/plain": [
       "(dtype('int64'), dtype('float64'), dtype('int64'))"
      ]
     },
     "execution_count": 14,
     "metadata": {},
     "output_type": "execute_result"
    }
   ],
   "source": [
    "a1.dtype, a2.dtype, a3.dtype"
   ]
  },
  {
   "cell_type": "code",
   "execution_count": 15,
   "id": "decimal-protection",
   "metadata": {},
   "outputs": [
    {
     "data": {
      "text/plain": [
       "(3, 6, 18)"
      ]
     },
     "execution_count": 15,
     "metadata": {},
     "output_type": "execute_result"
    }
   ],
   "source": [
    "a1.size, a2.size, a3.size"
   ]
  },
  {
   "cell_type": "code",
   "execution_count": 16,
   "id": "separated-bruce",
   "metadata": {},
   "outputs": [
    {
     "data": {
      "text/plain": [
       "(numpy.ndarray, numpy.ndarray, numpy.ndarray)"
      ]
     },
     "execution_count": 16,
     "metadata": {},
     "output_type": "execute_result"
    }
   ],
   "source": [
    "type(a1), type(a2), type(a3)"
   ]
  },
  {
   "cell_type": "code",
   "execution_count": 17,
   "id": "spread-legislation",
   "metadata": {},
   "outputs": [
    {
     "data": {
      "text/html": [
       "<div>\n",
       "<style scoped>\n",
       "    .dataframe tbody tr th:only-of-type {\n",
       "        vertical-align: middle;\n",
       "    }\n",
       "\n",
       "    .dataframe tbody tr th {\n",
       "        vertical-align: top;\n",
       "    }\n",
       "\n",
       "    .dataframe thead th {\n",
       "        text-align: right;\n",
       "    }\n",
       "</style>\n",
       "<table border=\"1\" class=\"dataframe\">\n",
       "  <thead>\n",
       "    <tr style=\"text-align: right;\">\n",
       "      <th></th>\n",
       "      <th>0</th>\n",
       "      <th>1</th>\n",
       "      <th>2</th>\n",
       "    </tr>\n",
       "  </thead>\n",
       "  <tbody>\n",
       "    <tr>\n",
       "      <th>0</th>\n",
       "      <td>1.0</td>\n",
       "      <td>2.0</td>\n",
       "      <td>3.3</td>\n",
       "    </tr>\n",
       "    <tr>\n",
       "      <th>1</th>\n",
       "      <td>2.0</td>\n",
       "      <td>5.0</td>\n",
       "      <td>6.5</td>\n",
       "    </tr>\n",
       "  </tbody>\n",
       "</table>\n",
       "</div>"
      ],
      "text/plain": [
       "     0    1    2\n",
       "0  1.0  2.0  3.3\n",
       "1  2.0  5.0  6.5"
      ]
     },
     "execution_count": 17,
     "metadata": {},
     "output_type": "execute_result"
    }
   ],
   "source": [
    "# Create dataframe from a numpy array\n",
    "\n",
    "a2\n",
    "\n",
    "df = pd.DataFrame(a2)\n",
    "df"
   ]
  },
  {
   "cell_type": "code",
   "execution_count": 18,
   "id": "collective-cooperative",
   "metadata": {},
   "outputs": [
    {
     "data": {
      "text/plain": [
       "array([[1. , 2. , 3.3],\n",
       "       [2. , 5. , 6.5]])"
      ]
     },
     "execution_count": 18,
     "metadata": {},
     "output_type": "execute_result"
    }
   ],
   "source": [
    "a2"
   ]
  },
  {
   "cell_type": "code",
   "execution_count": 19,
   "id": "humanitarian-rendering",
   "metadata": {},
   "outputs": [
    {
     "data": {
      "text/plain": [
       "array([1, 2, 3])"
      ]
     },
     "execution_count": 19,
     "metadata": {},
     "output_type": "execute_result"
    }
   ],
   "source": [
    "sample_array = np.array([1,2,3])\n",
    "sample_array"
   ]
  },
  {
   "cell_type": "code",
   "execution_count": 20,
   "id": "independent-detective",
   "metadata": {},
   "outputs": [
    {
     "data": {
      "text/plain": [
       "dtype('int64')"
      ]
     },
     "execution_count": 20,
     "metadata": {},
     "output_type": "execute_result"
    }
   ],
   "source": [
    "sample_array.dtype"
   ]
  },
  {
   "cell_type": "code",
   "execution_count": 21,
   "id": "controlled-warner",
   "metadata": {},
   "outputs": [
    {
     "data": {
      "text/plain": [
       "array([[[1., 1.],\n",
       "        [1., 1.]],\n",
       "\n",
       "       [[1., 1.],\n",
       "        [1., 1.]],\n",
       "\n",
       "       [[1., 1.],\n",
       "        [1., 1.]]])"
      ]
     },
     "execution_count": 21,
     "metadata": {},
     "output_type": "execute_result"
    }
   ],
   "source": [
    "ones = np.ones((3,2,2))\n",
    "ones"
   ]
  },
  {
   "cell_type": "code",
   "execution_count": 22,
   "id": "legitimate-responsibility",
   "metadata": {},
   "outputs": [
    {
     "data": {
      "text/plain": [
       "array([[1., 1., 1.],\n",
       "       [1., 1., 1.]])"
      ]
     },
     "execution_count": 22,
     "metadata": {},
     "output_type": "execute_result"
    }
   ],
   "source": [
    "ones = np.ones((2,3))\n",
    "ones"
   ]
  },
  {
   "cell_type": "code",
   "execution_count": 23,
   "id": "found-cyprus",
   "metadata": {},
   "outputs": [
    {
     "data": {
      "text/plain": [
       "dtype('float64')"
      ]
     },
     "execution_count": 23,
     "metadata": {},
     "output_type": "execute_result"
    }
   ],
   "source": [
    "ones.dtype"
   ]
  },
  {
   "cell_type": "code",
   "execution_count": 24,
   "id": "alike-knight",
   "metadata": {},
   "outputs": [
    {
     "data": {
      "text/plain": [
       "numpy.ndarray"
      ]
     },
     "execution_count": 24,
     "metadata": {},
     "output_type": "execute_result"
    }
   ],
   "source": [
    "type(ones)"
   ]
  },
  {
   "cell_type": "code",
   "execution_count": 25,
   "id": "above-monitor",
   "metadata": {},
   "outputs": [
    {
     "data": {
      "text/plain": [
       "array([[0., 0., 0.],\n",
       "       [0., 0., 0.]])"
      ]
     },
     "execution_count": 25,
     "metadata": {},
     "output_type": "execute_result"
    }
   ],
   "source": [
    "zeros = np.zeros(shape=(2,3))\n",
    "zeros"
   ]
  },
  {
   "cell_type": "code",
   "execution_count": 26,
   "id": "amber-angola",
   "metadata": {},
   "outputs": [
    {
     "data": {
      "text/plain": [
       "array([0, 2, 4, 6, 8])"
      ]
     },
     "execution_count": 26,
     "metadata": {},
     "output_type": "execute_result"
    }
   ],
   "source": [
    "range_array = np.arange(0,10,2)\n",
    "range_array"
   ]
  },
  {
   "cell_type": "code",
   "execution_count": 27,
   "id": "intimate-harris",
   "metadata": {},
   "outputs": [
    {
     "data": {
      "text/plain": [
       "array([[0, 5, 9, 3, 8],\n",
       "       [6, 5, 6, 8, 3],\n",
       "       [5, 6, 7, 7, 9]])"
      ]
     },
     "execution_count": 27,
     "metadata": {},
     "output_type": "execute_result"
    }
   ],
   "source": [
    "random_array = np.random.randint(0,10, size=(3,5))\n",
    "random_array"
   ]
  },
  {
   "cell_type": "code",
   "execution_count": 28,
   "id": "confident-black",
   "metadata": {},
   "outputs": [
    {
     "data": {
      "text/plain": [
       "15"
      ]
     },
     "execution_count": 28,
     "metadata": {},
     "output_type": "execute_result"
    }
   ],
   "source": [
    "random_array.size"
   ]
  },
  {
   "cell_type": "code",
   "execution_count": 29,
   "id": "honest-variance",
   "metadata": {},
   "outputs": [
    {
     "data": {
      "text/plain": [
       "(3, 5)"
      ]
     },
     "execution_count": 29,
     "metadata": {},
     "output_type": "execute_result"
    }
   ],
   "source": [
    "random_array.shape"
   ]
  },
  {
   "cell_type": "code",
   "execution_count": 30,
   "id": "compatible-consolidation",
   "metadata": {},
   "outputs": [
    {
     "data": {
      "text/plain": [
       "array([[0.81664535, 0.8604159 , 0.46241143],\n",
       "       [0.21713096, 0.93282789, 0.22092409],\n",
       "       [0.96929001, 0.10029114, 0.73166129],\n",
       "       [0.71096711, 0.98395582, 0.61000035],\n",
       "       [0.7015366 , 0.84090822, 0.89439695]])"
      ]
     },
     "execution_count": 30,
     "metadata": {},
     "output_type": "execute_result"
    }
   ],
   "source": [
    "np.random.random((5,3))"
   ]
  },
  {
   "cell_type": "code",
   "execution_count": 31,
   "id": "seasonal-consistency",
   "metadata": {},
   "outputs": [
    {
     "data": {
      "text/plain": [
       "15"
      ]
     },
     "execution_count": 31,
     "metadata": {},
     "output_type": "execute_result"
    }
   ],
   "source": [
    "np.random.random((5,3)).size"
   ]
  },
  {
   "cell_type": "code",
   "execution_count": 32,
   "id": "preliminary-tragedy",
   "metadata": {},
   "outputs": [
    {
     "data": {
      "text/plain": [
       "(5, 3)"
      ]
     },
     "execution_count": 32,
     "metadata": {},
     "output_type": "execute_result"
    }
   ],
   "source": [
    "np.random.random((5,3)).shape"
   ]
  },
  {
   "cell_type": "code",
   "execution_count": 33,
   "id": "potential-greene",
   "metadata": {},
   "outputs": [
    {
     "data": {
      "text/plain": [
       "array([[0.4711442 , 0.83619605, 0.23877513],\n",
       "       [0.66363395, 0.67537095, 0.40309355],\n",
       "       [0.44829236, 0.23089847, 0.80902878],\n",
       "       [0.03010941, 0.03281317, 0.97560933],\n",
       "       [0.14835947, 0.91502224, 0.66322932]])"
      ]
     },
     "execution_count": 33,
     "metadata": {},
     "output_type": "execute_result"
    }
   ],
   "source": [
    "random_array_3 = np.random.rand(5,3)\n",
    "random_array_3"
   ]
  },
  {
   "cell_type": "code",
   "execution_count": 37,
   "id": "immediate-child",
   "metadata": {},
   "outputs": [
    {
     "data": {
      "text/plain": [
       "array([[5, 0, 3],\n",
       "       [3, 7, 9],\n",
       "       [3, 5, 2],\n",
       "       [4, 7, 6],\n",
       "       [8, 8, 1]])"
      ]
     },
     "execution_count": 37,
     "metadata": {},
     "output_type": "execute_result"
    }
   ],
   "source": [
    "# Psedo random numbers\n",
    "np.random.seed(seed=0)\n",
    "random_array_4 = np.random.randint(10, size=(5,3))\n",
    "random_array_4"
   ]
  },
  {
   "cell_type": "code",
   "execution_count": 38,
   "id": "increasing-monaco",
   "metadata": {},
   "outputs": [
    {
     "data": {
      "text/plain": [
       "array([[0.07630829, 0.77991879, 0.43840923],\n",
       "       [0.72346518, 0.97798951, 0.53849587],\n",
       "       [0.50112046, 0.07205113, 0.26843898],\n",
       "       [0.4998825 , 0.67923   , 0.80373904],\n",
       "       [0.38094113, 0.06593635, 0.2881456 ]])"
      ]
     },
     "execution_count": 38,
     "metadata": {},
     "output_type": "execute_result"
    }
   ],
   "source": [
    "np.random.seed(seed=7)\n",
    "random_array_5 = np.random.random((5,3))\n",
    "random_array_5"
   ]
  },
  {
   "cell_type": "code",
   "execution_count": 39,
   "id": "accurate-baking",
   "metadata": {},
   "outputs": [
    {
     "data": {
      "text/plain": [
       "array([[0.90959353, 0.21338535, 0.45212396],\n",
       "       [0.93120602, 0.02489923, 0.60054892],\n",
       "       [0.9501295 , 0.23030288, 0.54848992],\n",
       "       [0.90912837, 0.13316945, 0.52341258],\n",
       "       [0.75040986, 0.66901324, 0.46775286]])"
      ]
     },
     "execution_count": 39,
     "metadata": {},
     "output_type": "execute_result"
    }
   ],
   "source": [
    "random_array_5 = np.random.random((5,3))\n",
    "random_array_5"
   ]
  },
  {
   "cell_type": "code",
   "execution_count": 36,
   "id": "modern-promotion",
   "metadata": {},
   "outputs": [
    {
     "data": {
      "text/plain": [
       "(5, 3)"
      ]
     },
     "execution_count": 36,
     "metadata": {},
     "output_type": "execute_result"
    }
   ],
   "source": [
    "random_array_4.shape"
   ]
  },
  {
   "cell_type": "markdown",
   "id": "personalized-reviewer",
   "metadata": {},
   "source": [
    "## 3. Viewing arrays and matrices"
   ]
  },
  {
   "cell_type": "code",
   "execution_count": 40,
   "id": "varied-investigation",
   "metadata": {},
   "outputs": [
    {
     "data": {
      "text/plain": [
       "array([0, 1, 2, 3, 4, 5, 6, 7, 8, 9])"
      ]
     },
     "execution_count": 40,
     "metadata": {},
     "output_type": "execute_result"
    }
   ],
   "source": [
    "np.unique(random_array_4)"
   ]
  },
  {
   "cell_type": "code",
   "execution_count": 41,
   "id": "effective-shade",
   "metadata": {},
   "outputs": [
    {
     "data": {
      "text/plain": [
       "array([1, 2, 3])"
      ]
     },
     "execution_count": 41,
     "metadata": {},
     "output_type": "execute_result"
    }
   ],
   "source": [
    "a1"
   ]
  },
  {
   "cell_type": "code",
   "execution_count": 42,
   "id": "annual-logic",
   "metadata": {},
   "outputs": [
    {
     "data": {
      "text/plain": [
       "array([[1. , 2. , 3.3],\n",
       "       [2. , 5. , 6.5]])"
      ]
     },
     "execution_count": 42,
     "metadata": {},
     "output_type": "execute_result"
    }
   ],
   "source": [
    "a2"
   ]
  },
  {
   "cell_type": "code",
   "execution_count": 43,
   "id": "built-timothy",
   "metadata": {},
   "outputs": [
    {
     "data": {
      "text/plain": [
       "array([[[ 1,  2,  3],\n",
       "        [ 4,  5,  6],\n",
       "        [ 7,  8,  9]],\n",
       "\n",
       "       [[10, 11, 12],\n",
       "        [13, 14, 15],\n",
       "        [16, 17, 18]]])"
      ]
     },
     "execution_count": 43,
     "metadata": {},
     "output_type": "execute_result"
    }
   ],
   "source": [
    "a3"
   ]
  },
  {
   "cell_type": "code",
   "execution_count": 44,
   "id": "federal-ivory",
   "metadata": {},
   "outputs": [
    {
     "data": {
      "text/plain": [
       "1"
      ]
     },
     "execution_count": 44,
     "metadata": {},
     "output_type": "execute_result"
    }
   ],
   "source": [
    "a1[0]"
   ]
  },
  {
   "cell_type": "code",
   "execution_count": 45,
   "id": "unlike-assignment",
   "metadata": {},
   "outputs": [
    {
     "data": {
      "text/plain": [
       "array([1. , 2. , 3.3])"
      ]
     },
     "execution_count": 45,
     "metadata": {},
     "output_type": "execute_result"
    }
   ],
   "source": [
    "a2[0]"
   ]
  },
  {
   "cell_type": "code",
   "execution_count": 46,
   "id": "motivated-controversy",
   "metadata": {},
   "outputs": [
    {
     "data": {
      "text/plain": [
       "array([[1, 2, 3],\n",
       "       [4, 5, 6],\n",
       "       [7, 8, 9]])"
      ]
     },
     "execution_count": 46,
     "metadata": {},
     "output_type": "execute_result"
    }
   ],
   "source": [
    "a3[0]"
   ]
  },
  {
   "cell_type": "code",
   "execution_count": 47,
   "id": "heavy-newfoundland",
   "metadata": {},
   "outputs": [
    {
     "data": {
      "text/plain": [
       "(2, 3, 3)"
      ]
     },
     "execution_count": 47,
     "metadata": {},
     "output_type": "execute_result"
    }
   ],
   "source": [
    "a3.shape"
   ]
  },
  {
   "cell_type": "code",
   "execution_count": 48,
   "id": "taken-amendment",
   "metadata": {},
   "outputs": [
    {
     "data": {
      "text/plain": [
       "array([[[ 1,  2,  3],\n",
       "        [ 4,  5,  6],\n",
       "        [ 7,  8,  9]],\n",
       "\n",
       "       [[10, 11, 12],\n",
       "        [13, 14, 15],\n",
       "        [16, 17, 18]]])"
      ]
     },
     "execution_count": 48,
     "metadata": {},
     "output_type": "execute_result"
    }
   ],
   "source": [
    "a3"
   ]
  },
  {
   "cell_type": "code",
   "execution_count": 49,
   "id": "taken-remove",
   "metadata": {},
   "outputs": [
    {
     "data": {
      "text/plain": [
       "array([[[ 1,  2],\n",
       "        [ 4,  5]],\n",
       "\n",
       "       [[10, 11],\n",
       "        [13, 14]]])"
      ]
     },
     "execution_count": 49,
     "metadata": {},
     "output_type": "execute_result"
    }
   ],
   "source": [
    "a3[:2,:2,:2]"
   ]
  },
  {
   "cell_type": "code",
   "execution_count": 50,
   "id": "known-somalia",
   "metadata": {},
   "outputs": [],
   "source": [
    "a4 = np.random.randint(10, size=(2,3,4,5))"
   ]
  },
  {
   "cell_type": "code",
   "execution_count": 51,
   "id": "statutory-damage",
   "metadata": {},
   "outputs": [
    {
     "data": {
      "text/plain": [
       "array([[[[6, 7, 7, 9, 3],\n",
       "         [0, 7, 7, 7, 0],\n",
       "         [5, 4, 3, 1, 3],\n",
       "         [1, 3, 4, 3, 1]],\n",
       "\n",
       "        [[9, 5, 9, 1, 2],\n",
       "         [3, 2, 2, 5, 7],\n",
       "         [3, 0, 9, 9, 3],\n",
       "         [4, 5, 3, 0, 4]],\n",
       "\n",
       "        [[8, 6, 7, 2, 7],\n",
       "         [3, 8, 6, 6, 5],\n",
       "         [6, 5, 7, 1, 5],\n",
       "         [4, 4, 9, 9, 0]]],\n",
       "\n",
       "\n",
       "       [[[6, 2, 6, 8, 2],\n",
       "         [4, 1, 6, 1, 5],\n",
       "         [1, 6, 9, 8, 6],\n",
       "         [5, 9, 7, 5, 4]],\n",
       "\n",
       "        [[9, 6, 8, 1, 5],\n",
       "         [5, 8, 3, 7, 7],\n",
       "         [9, 4, 7, 5, 9],\n",
       "         [6, 2, 0, 5, 3]],\n",
       "\n",
       "        [[0, 5, 7, 1, 8],\n",
       "         [4, 9, 0, 2, 0],\n",
       "         [7, 6, 2, 9, 9],\n",
       "         [5, 1, 0, 0, 9]]]])"
      ]
     },
     "execution_count": 51,
     "metadata": {},
     "output_type": "execute_result"
    }
   ],
   "source": [
    "a4"
   ]
  },
  {
   "cell_type": "code",
   "execution_count": 52,
   "id": "technical-element",
   "metadata": {},
   "outputs": [
    {
     "data": {
      "text/plain": [
       "(2, 3, 4, 5)"
      ]
     },
     "execution_count": 52,
     "metadata": {},
     "output_type": "execute_result"
    }
   ],
   "source": [
    "a4.shape"
   ]
  },
  {
   "cell_type": "code",
   "execution_count": 53,
   "id": "pleasant-immunology",
   "metadata": {},
   "outputs": [
    {
     "data": {
      "text/plain": [
       "4"
      ]
     },
     "execution_count": 53,
     "metadata": {},
     "output_type": "execute_result"
    }
   ],
   "source": [
    "a4.ndim"
   ]
  },
  {
   "cell_type": "code",
   "execution_count": 56,
   "id": "tested-beginning",
   "metadata": {},
   "outputs": [
    {
     "data": {
      "text/plain": [
       "array([[[[6, 7],\n",
       "         [0, 7],\n",
       "         [5, 4],\n",
       "         [1, 3]],\n",
       "\n",
       "        [[9, 5],\n",
       "         [3, 2],\n",
       "         [3, 0],\n",
       "         [4, 5]],\n",
       "\n",
       "        [[8, 6],\n",
       "         [3, 8],\n",
       "         [6, 5],\n",
       "         [4, 4]]],\n",
       "\n",
       "\n",
       "       [[[6, 2],\n",
       "         [4, 1],\n",
       "         [1, 6],\n",
       "         [5, 9]],\n",
       "\n",
       "        [[9, 6],\n",
       "         [5, 8],\n",
       "         [9, 4],\n",
       "         [6, 2]],\n",
       "\n",
       "        [[0, 5],\n",
       "         [4, 9],\n",
       "         [7, 6],\n",
       "         [5, 1]]]])"
      ]
     },
     "execution_count": 56,
     "metadata": {},
     "output_type": "execute_result"
    }
   ],
   "source": [
    "# Get first 4 numbers of inner most array\n",
    "a4[:,:,:,:2]"
   ]
  },
  {
   "cell_type": "markdown",
   "id": "hungry-switzerland",
   "metadata": {},
   "source": [
    "## 4. Manipulating & Comparing Array"
   ]
  },
  {
   "cell_type": "markdown",
   "id": "static-logistics",
   "metadata": {},
   "source": [
    "### Arithmetic"
   ]
  },
  {
   "cell_type": "code",
   "execution_count": 57,
   "id": "baking-mouth",
   "metadata": {},
   "outputs": [
    {
     "data": {
      "text/plain": [
       "array([1, 2, 3])"
      ]
     },
     "execution_count": 57,
     "metadata": {},
     "output_type": "execute_result"
    }
   ],
   "source": [
    "a1"
   ]
  },
  {
   "cell_type": "code",
   "execution_count": 60,
   "id": "otherwise-richardson",
   "metadata": {},
   "outputs": [
    {
     "data": {
      "text/plain": [
       "array([1., 1., 1.])"
      ]
     },
     "execution_count": 60,
     "metadata": {},
     "output_type": "execute_result"
    }
   ],
   "source": [
    "ones = np.ones(3)\n",
    "ones"
   ]
  },
  {
   "cell_type": "code",
   "execution_count": 61,
   "id": "presidential-perry",
   "metadata": {},
   "outputs": [
    {
     "data": {
      "text/plain": [
       "array([2., 3., 4.])"
      ]
     },
     "execution_count": 61,
     "metadata": {},
     "output_type": "execute_result"
    }
   ],
   "source": [
    "a1 + ones"
   ]
  },
  {
   "cell_type": "code",
   "execution_count": 62,
   "id": "herbal-expansion",
   "metadata": {},
   "outputs": [
    {
     "data": {
      "text/plain": [
       "array([0., 1., 2.])"
      ]
     },
     "execution_count": 62,
     "metadata": {},
     "output_type": "execute_result"
    }
   ],
   "source": [
    "a1 - ones"
   ]
  },
  {
   "cell_type": "code",
   "execution_count": 63,
   "id": "accessible-intervention",
   "metadata": {},
   "outputs": [
    {
     "data": {
      "text/plain": [
       "array([1., 2., 3.])"
      ]
     },
     "execution_count": 63,
     "metadata": {},
     "output_type": "execute_result"
    }
   ],
   "source": [
    "a1 * ones"
   ]
  },
  {
   "cell_type": "code",
   "execution_count": 66,
   "id": "overhead-inspector",
   "metadata": {},
   "outputs": [
    {
     "data": {
      "text/plain": [
       "array([1, 2, 3])"
      ]
     },
     "execution_count": 66,
     "metadata": {},
     "output_type": "execute_result"
    }
   ],
   "source": [
    "a1"
   ]
  },
  {
   "cell_type": "code",
   "execution_count": 64,
   "id": "located-continent",
   "metadata": {},
   "outputs": [
    {
     "data": {
      "text/plain": [
       "array([[1. , 2. , 3.3],\n",
       "       [2. , 5. , 6.5]])"
      ]
     },
     "execution_count": 64,
     "metadata": {},
     "output_type": "execute_result"
    }
   ],
   "source": [
    "a2"
   ]
  },
  {
   "cell_type": "code",
   "execution_count": 65,
   "id": "knowing-norfolk",
   "metadata": {},
   "outputs": [
    {
     "data": {
      "text/plain": [
       "array([[ 1. ,  4. ,  9.9],\n",
       "       [ 2. , 10. , 19.5]])"
      ]
     },
     "execution_count": 65,
     "metadata": {},
     "output_type": "execute_result"
    }
   ],
   "source": [
    "a1 * a2"
   ]
  },
  {
   "cell_type": "code",
   "execution_count": 68,
   "id": "dental-attention",
   "metadata": {},
   "outputs": [
    {
     "data": {
      "text/plain": [
       "array([[1. , 2. , 3.3],\n",
       "       [2. , 5. , 6.5]])"
      ]
     },
     "execution_count": 68,
     "metadata": {},
     "output_type": "execute_result"
    }
   ],
   "source": [
    "a2"
   ]
  },
  {
   "cell_type": "code",
   "execution_count": 69,
   "id": "incredible-alarm",
   "metadata": {},
   "outputs": [
    {
     "data": {
      "text/plain": [
       "array([[[ 1,  2,  3],\n",
       "        [ 4,  5,  6],\n",
       "        [ 7,  8,  9]],\n",
       "\n",
       "       [[10, 11, 12],\n",
       "        [13, 14, 15],\n",
       "        [16, 17, 18]]])"
      ]
     },
     "execution_count": 69,
     "metadata": {},
     "output_type": "execute_result"
    }
   ],
   "source": [
    "a3"
   ]
  },
  {
   "cell_type": "code",
   "execution_count": 77,
   "id": "israeli-shopping",
   "metadata": {},
   "outputs": [
    {
     "data": {
      "text/plain": [
       "array([[ 1,  2,  3,  4,  5,  6],\n",
       "       [ 7,  8,  9, 10, 11, 12],\n",
       "       [13, 14, 15, 16, 17, 18]])"
      ]
     },
     "execution_count": 77,
     "metadata": {},
     "output_type": "execute_result"
    }
   ],
   "source": [
    "a3_n = a3.reshape(3, 6)\n",
    "a3_n"
   ]
  },
  {
   "cell_type": "code",
   "execution_count": 79,
   "id": "abandoned-character",
   "metadata": {},
   "outputs": [
    {
     "data": {
      "text/plain": [
       "array([[  1. ,   4. ,   9.9,   8. ,  25. ,  39. ],\n",
       "       [  7. ,  16. ,  29.7,  20. ,  55. ,  78. ],\n",
       "       [ 13. ,  28. ,  49.5,  32. ,  85. , 117. ]])"
      ]
     },
     "execution_count": 79,
     "metadata": {},
     "output_type": "execute_result"
    }
   ],
   "source": [
    "a3_n * a2.reshape(6)"
   ]
  },
  {
   "cell_type": "code",
   "execution_count": 71,
   "id": "tribal-kingdom",
   "metadata": {},
   "outputs": [
    {
     "data": {
      "text/plain": [
       "array([1., 2., 3.])"
      ]
     },
     "execution_count": 71,
     "metadata": {},
     "output_type": "execute_result"
    }
   ],
   "source": [
    "a1 / ones"
   ]
  },
  {
   "cell_type": "code",
   "execution_count": 72,
   "id": "recorded-semiconductor",
   "metadata": {},
   "outputs": [
    {
     "data": {
      "text/plain": [
       "array([[1.        , 1.        , 1.1       ],\n",
       "       [2.        , 2.5       , 2.16666667]])"
      ]
     },
     "execution_count": 72,
     "metadata": {},
     "output_type": "execute_result"
    }
   ],
   "source": [
    "a2 / a1"
   ]
  },
  {
   "cell_type": "code",
   "execution_count": 75,
   "id": "eleven-south",
   "metadata": {},
   "outputs": [
    {
     "data": {
      "text/plain": [
       "array([[1., 1., 1.],\n",
       "       [2., 2., 2.]])"
      ]
     },
     "execution_count": 75,
     "metadata": {},
     "output_type": "execute_result"
    }
   ],
   "source": [
    "a2 // a1"
   ]
  },
  {
   "cell_type": "markdown",
   "id": "silent-squad",
   "metadata": {},
   "source": [
    "### Aggregation\n",
    "\n",
    "Aggregation = Performing the smae operation on a number of things"
   ]
  },
  {
   "cell_type": "code",
   "execution_count": 80,
   "id": "dimensional-prior",
   "metadata": {},
   "outputs": [],
   "source": [
    "listy_list = [1,2,3]"
   ]
  },
  {
   "cell_type": "code",
   "execution_count": 81,
   "id": "moral-acting",
   "metadata": {},
   "outputs": [
    {
     "data": {
      "text/plain": [
       "list"
      ]
     },
     "execution_count": 81,
     "metadata": {},
     "output_type": "execute_result"
    }
   ],
   "source": [
    "type(listy_list)"
   ]
  },
  {
   "cell_type": "code",
   "execution_count": 82,
   "id": "fabulous-reader",
   "metadata": {},
   "outputs": [
    {
     "data": {
      "text/plain": [
       "6"
      ]
     },
     "execution_count": 82,
     "metadata": {},
     "output_type": "execute_result"
    }
   ],
   "source": [
    "sum(listy_list)"
   ]
  },
  {
   "cell_type": "code",
   "execution_count": 83,
   "id": "alternate-circus",
   "metadata": {},
   "outputs": [
    {
     "data": {
      "text/plain": [
       "6"
      ]
     },
     "execution_count": 83,
     "metadata": {},
     "output_type": "execute_result"
    }
   ],
   "source": [
    "sum(a1)"
   ]
  },
  {
   "cell_type": "code",
   "execution_count": 84,
   "id": "focal-library",
   "metadata": {},
   "outputs": [
    {
     "data": {
      "text/plain": [
       "6"
      ]
     },
     "execution_count": 84,
     "metadata": {},
     "output_type": "execute_result"
    }
   ],
   "source": [
    "np.sum(a1)"
   ]
  },
  {
   "cell_type": "markdown",
   "id": "available-gasoline",
   "metadata": {},
   "source": [
    "#### Use Python's methods on Python data types and use NumPy's methods on NumPy arrays"
   ]
  },
  {
   "cell_type": "code",
   "execution_count": 85,
   "id": "governing-silence",
   "metadata": {},
   "outputs": [
    {
     "data": {
      "text/plain": [
       "100000"
      ]
     },
     "execution_count": 85,
     "metadata": {},
     "output_type": "execute_result"
    }
   ],
   "source": [
    "# Create a massive numpy array\n",
    "\n",
    "massive_array = np.random.random(100000)\n",
    "massive_array.size"
   ]
  },
  {
   "cell_type": "code",
   "execution_count": 86,
   "id": "informed-latitude",
   "metadata": {},
   "outputs": [
    {
     "data": {
      "text/plain": [
       "array([0.62342345, 0.62955693, 0.9099729 , 0.96251949, 0.5850998 ,\n",
       "       0.16489774, 0.39159332, 0.94455493, 0.34339118, 0.70507037])"
      ]
     },
     "execution_count": 86,
     "metadata": {},
     "output_type": "execute_result"
    }
   ],
   "source": [
    "massive_array[:10]"
   ]
  },
  {
   "cell_type": "code",
   "execution_count": 87,
   "id": "oriented-jackson",
   "metadata": {},
   "outputs": [
    {
     "data": {
      "text/plain": [
       "array([0.62342345, 0.62955693, 0.9099729 , ..., 0.52215154, 0.63749763,\n",
       "       0.58816192])"
      ]
     },
     "execution_count": 87,
     "metadata": {},
     "output_type": "execute_result"
    }
   ],
   "source": [
    "massive_array"
   ]
  },
  {
   "cell_type": "code",
   "execution_count": 89,
   "id": "processed-recognition",
   "metadata": {},
   "outputs": [
    {
     "name": "stdout",
     "output_type": "stream",
     "text": [
      "18.7 ms ± 888 µs per loop (mean ± std. dev. of 7 runs, 10 loops each)\n",
      "35.4 µs ± 802 ns per loop (mean ± std. dev. of 7 runs, 10000 loops each)\n"
     ]
    }
   ],
   "source": [
    "%timeit sum(massive_array)\n",
    "\n",
    "%timeit np.sum(massive_array) # Shows how fast numpy methods are"
   ]
  },
  {
   "cell_type": "code",
   "execution_count": 93,
   "id": "circular-classic",
   "metadata": {},
   "outputs": [
    {
     "data": {
      "text/plain": [
       "1.906130460732773"
      ]
     },
     "execution_count": 93,
     "metadata": {},
     "output_type": "execute_result"
    }
   ],
   "source": [
    "# Standard Deviation = a measure of how spread out a group of numbers are\n",
    "\n",
    "\n",
    "np.std(a2)"
   ]
  },
  {
   "cell_type": "code",
   "execution_count": 92,
   "id": "animal-chapter",
   "metadata": {},
   "outputs": [
    {
     "data": {
      "text/plain": [
       "3.633333333333333"
      ]
     },
     "execution_count": 92,
     "metadata": {},
     "output_type": "execute_result"
    }
   ],
   "source": [
    "# Variance = measure of the average degree to which a number is diferent\n",
    "# Higher variance = Higher range of numbers\n",
    "# Lower Variance = Lower Range of Numbers\n",
    "\n",
    "np.var(a2)"
   ]
  },
  {
   "cell_type": "code",
   "execution_count": 94,
   "id": "desirable-memorial",
   "metadata": {},
   "outputs": [
    {
     "data": {
      "text/plain": [
       "1.906130460732773"
      ]
     },
     "execution_count": 94,
     "metadata": {},
     "output_type": "execute_result"
    }
   ],
   "source": [
    "# Standard deviation = squareroot of variance\n",
    "\n",
    "np.sqrt(np.var(a2))"
   ]
  },
  {
   "cell_type": "code",
   "execution_count": 95,
   "id": "printable-pressure",
   "metadata": {},
   "outputs": [],
   "source": [
    "# Demo of std and var\n",
    "\n",
    "high_var_array = np.array([1,100, 200, 300, 4000, 5000])\n",
    "low_var_array = np.array([2, 4, 6, 8, 10])"
   ]
  },
  {
   "cell_type": "code",
   "execution_count": 96,
   "id": "imported-pressure",
   "metadata": {},
   "outputs": [
    {
     "data": {
      "text/plain": [
       "(4296133.472222221, 8.0)"
      ]
     },
     "execution_count": 96,
     "metadata": {},
     "output_type": "execute_result"
    }
   ],
   "source": [
    "np.var(high_var_array), np.var(low_var_array)"
   ]
  },
  {
   "cell_type": "code",
   "execution_count": 97,
   "id": "future-brighton",
   "metadata": {},
   "outputs": [
    {
     "data": {
      "text/plain": [
       "(2072.711623024829, 2.8284271247461903)"
      ]
     },
     "execution_count": 97,
     "metadata": {},
     "output_type": "execute_result"
    }
   ],
   "source": [
    "np.std(high_var_array), np.std(low_var_array)"
   ]
  },
  {
   "cell_type": "code",
   "execution_count": 98,
   "id": "annoying-consciousness",
   "metadata": {},
   "outputs": [
    {
     "data": {
      "text/plain": [
       "(1600.1666666666667, 6.0)"
      ]
     },
     "execution_count": 98,
     "metadata": {},
     "output_type": "execute_result"
    }
   ],
   "source": [
    "np.mean(high_var_array), np.mean(low_var_array)"
   ]
  },
  {
   "cell_type": "code",
   "execution_count": 99,
   "id": "inclusive-sender",
   "metadata": {},
   "outputs": [
    {
     "data": {
      "image/png": "[encoded data removed]",
      "text/plain": [
       "<Figure size 432x288 with 1 Axes>"
      ]
     },
     "metadata": {
      "needs_background": "light"
     },
     "output_type": "display_data"
    }
   ],
   "source": [
    "%matplotlib inline\n",
    "import matplotlib.pyplot as plt\n",
    "plt.hist(high_var_array)\n",
    "plt.show()"
   ]
  },
  {
   "cell_type": "code",
   "execution_count": 100,
   "id": "focal-crash",
   "metadata": {},
   "outputs": [
    {
     "data": {
      "image/png": "[encoded data removed]",
      "text/plain": [
       "<Figure size 432x288 with 1 Axes>"
      ]
     },
     "metadata": {
      "needs_background": "light"
     },
     "output_type": "display_data"
    }
   ],
   "source": [
    "plt.hist(low_var_array)\n",
    "plt.show()"
   ]
  },
  {
   "cell_type": "markdown",
   "id": "pretty-original",
   "metadata": {},
   "source": [
    "### Rehsaping & Transposing"
   ]
  },
  {
   "cell_type": "code",
   "execution_count": 101,
   "id": "color-recording",
   "metadata": {},
   "outputs": [
    {
     "data": {
      "text/plain": [
       "array([[1. , 2. , 3.3],\n",
       "       [2. , 5. , 6.5]])"
      ]
     },
     "execution_count": 101,
     "metadata": {},
     "output_type": "execute_result"
    }
   ],
   "source": [
    "a2"
   ]
  },
  {
   "cell_type": "code",
   "execution_count": 102,
   "id": "persistent-cholesterol",
   "metadata": {},
   "outputs": [
    {
     "data": {
      "text/plain": [
       "(2, 3)"
      ]
     },
     "execution_count": 102,
     "metadata": {},
     "output_type": "execute_result"
    }
   ],
   "source": [
    "a2.shape"
   ]
  },
  {
   "cell_type": "code",
   "execution_count": 103,
   "id": "elect-language",
   "metadata": {},
   "outputs": [
    {
     "data": {
      "text/plain": [
       "(2, 3, 3)"
      ]
     },
     "execution_count": 103,
     "metadata": {},
     "output_type": "execute_result"
    }
   ],
   "source": [
    "a3.shape"
   ]
  },
  {
   "cell_type": "code",
   "execution_count": 105,
   "id": "successful-friendly",
   "metadata": {},
   "outputs": [
    {
     "data": {
      "text/plain": [
       "(2, 3, 1)"
      ]
     },
     "execution_count": 105,
     "metadata": {},
     "output_type": "execute_result"
    }
   ],
   "source": [
    "a2.reshape(2,3,1).shape"
   ]
  },
  {
   "cell_type": "code",
   "execution_count": 109,
   "id": "present-throat",
   "metadata": {},
   "outputs": [],
   "source": [
    "a2_reshape = a2.reshape(2,3,1) # Doing reshape to make sure that the multiplication occurs"
   ]
  },
  {
   "cell_type": "code",
   "execution_count": 110,
   "id": "whole-swedish",
   "metadata": {},
   "outputs": [
    {
     "data": {
      "text/plain": [
       "array([[[1. ],\n",
       "        [2. ],\n",
       "        [3.3]],\n",
       "\n",
       "       [[2. ],\n",
       "        [5. ],\n",
       "        [6.5]]])"
      ]
     },
     "execution_count": 110,
     "metadata": {},
     "output_type": "execute_result"
    }
   ],
   "source": [
    "a2_reshape"
   ]
  },
  {
   "cell_type": "code",
   "execution_count": 111,
   "id": "emerging-laundry",
   "metadata": {},
   "outputs": [
    {
     "data": {
      "text/plain": [
       "array([[[  1. ,   2. ,   3. ],\n",
       "        [  8. ,  10. ,  12. ],\n",
       "        [ 23.1,  26.4,  29.7]],\n",
       "\n",
       "       [[ 20. ,  22. ,  24. ],\n",
       "        [ 65. ,  70. ,  75. ],\n",
       "        [104. , 110.5, 117. ]]])"
      ]
     },
     "execution_count": 111,
     "metadata": {},
     "output_type": "execute_result"
    }
   ],
   "source": [
    "a2_reshape * a3"
   ]
  },
  {
   "cell_type": "code",
   "execution_count": 115,
   "id": "authentic-reducing",
   "metadata": {},
   "outputs": [
    {
     "data": {
      "text/plain": [
       "array([[1. , 2. , 3.3],\n",
       "       [2. , 5. , 6.5]])"
      ]
     },
     "execution_count": 115,
     "metadata": {},
     "output_type": "execute_result"
    }
   ],
   "source": [
    "a2.shape\n",
    "\n",
    "a2"
   ]
  },
  {
   "cell_type": "code",
   "execution_count": 113,
   "id": "stable-fisher",
   "metadata": {},
   "outputs": [
    {
     "data": {
      "text/plain": [
       "array([[1. , 2. ],\n",
       "       [2. , 5. ],\n",
       "       [3.3, 6.5]])"
      ]
     },
     "execution_count": 113,
     "metadata": {},
     "output_type": "execute_result"
    }
   ],
   "source": [
    "a2.T"
   ]
  },
  {
   "cell_type": "code",
   "execution_count": 114,
   "id": "contained-disabled",
   "metadata": {},
   "outputs": [
    {
     "data": {
      "text/plain": [
       "(3, 2)"
      ]
     },
     "execution_count": 114,
     "metadata": {},
     "output_type": "execute_result"
    }
   ],
   "source": [
    "a2.T.shape"
   ]
  },
  {
   "cell_type": "code",
   "execution_count": 116,
   "id": "ultimate-engagement",
   "metadata": {},
   "outputs": [
    {
     "data": {
      "text/plain": [
       "array([[1. , 2. , 3.3],\n",
       "       [2. , 5. , 6.5]])"
      ]
     },
     "execution_count": 116,
     "metadata": {},
     "output_type": "execute_result"
    }
   ],
   "source": [
    "a2"
   ]
  },
  {
   "cell_type": "markdown",
   "id": "collected-walter",
   "metadata": {},
   "source": [
    "## Dot Product"
   ]
  },
  {
   "cell_type": "code",
   "execution_count": 117,
   "id": "favorite-score",
   "metadata": {},
   "outputs": [],
   "source": [
    "np.random.seed(0)\n",
    "mat1 = np.random.randint(10, size=(5,3))\n",
    "mat2 = np.random.randint(10, size=(5,3))"
   ]
  },
  {
   "cell_type": "code",
   "execution_count": 118,
   "id": "resident-portsmouth",
   "metadata": {},
   "outputs": [
    {
     "data": {
      "text/plain": [
       "array([[5, 0, 3],\n",
       "       [3, 7, 9],\n",
       "       [3, 5, 2],\n",
       "       [4, 7, 6],\n",
       "       [8, 8, 1]])"
      ]
     },
     "execution_count": 118,
     "metadata": {},
     "output_type": "execute_result"
    }
   ],
   "source": [
    "mat1"
   ]
  },
  {
   "cell_type": "code",
   "execution_count": 119,
   "id": "laughing-jenny",
   "metadata": {},
   "outputs": [
    {
     "data": {
      "text/plain": [
       "array([[6, 7, 7],\n",
       "       [8, 1, 5],\n",
       "       [9, 8, 9],\n",
       "       [4, 3, 0],\n",
       "       [3, 5, 0]])"
      ]
     },
     "execution_count": 119,
     "metadata": {},
     "output_type": "execute_result"
    }
   ],
   "source": [
    "mat2"
   ]
  },
  {
   "cell_type": "code",
   "execution_count": 120,
   "id": "minus-wichita",
   "metadata": {},
   "outputs": [
    {
     "data": {
      "text/plain": [
       "((5, 3), (5, 3))"
      ]
     },
     "execution_count": 120,
     "metadata": {},
     "output_type": "execute_result"
    }
   ],
   "source": [
    "mat1.shape, mat2.shape"
   ]
  },
  {
   "cell_type": "code",
   "execution_count": 122,
   "id": "spiritual-divide",
   "metadata": {},
   "outputs": [
    {
     "data": {
      "text/plain": [
       "array([[30,  0, 21],\n",
       "       [24,  7, 45],\n",
       "       [27, 40, 18],\n",
       "       [16, 21,  0],\n",
       "       [24, 40,  0]])"
      ]
     },
     "execution_count": 122,
     "metadata": {},
     "output_type": "execute_result"
    }
   ],
   "source": [
    "# Element wise multiplication\n",
    "mat1 * mat2"
   ]
  },
  {
   "cell_type": "code",
   "execution_count": 123,
   "id": "hearing-earthquake",
   "metadata": {},
   "outputs": [
    {
     "ename": "ValueError",
     "evalue": "shapes (5,3) and (5,3) not aligned: 3 (dim 1) != 5 (dim 0)",
     "output_type": "error",
     "traceback": [
      "\u001b[0;31m---------------------------------------------------------------------------\u001b[0m",
      "\u001b[0;31mValueError\u001b[0m                                Traceback (most recent call last)",
      "\u001b[0;32m<ipython-input-123-6a29ea6b4980>\u001b[0m in \u001b[0;36m<module>\u001b[0;34m\u001b[0m\n\u001b[0;32m----> 1\u001b[0;31m \u001b[0mnp\u001b[0m\u001b[0;34m.\u001b[0m\u001b[0mdot\u001b[0m\u001b[0;34m(\u001b[0m\u001b[0mmat1\u001b[0m\u001b[0;34m,\u001b[0m \u001b[0mmat2\u001b[0m\u001b[0;34m)\u001b[0m\u001b[0;34m\u001b[0m\u001b[0;34m\u001b[0m\u001b[0m\n\u001b[0m",
      "\u001b[0;32m<__array_function__ internals>\u001b[0m in \u001b[0;36mdot\u001b[0;34m(*args, **kwargs)\u001b[0m\n",
      "\u001b[0;31mValueError\u001b[0m: shapes (5,3) and (5,3) not aligned: 3 (dim 1) != 5 (dim 0)"
     ]
    }
   ],
   "source": [
    "np.dot(mat1, mat2)"
   ]
  },
  {
   "cell_type": "code",
   "execution_count": 124,
   "id": "nuclear-sleep",
   "metadata": {},
   "outputs": [
    {
     "data": {
      "text/plain": [
       "array([[ 51,  55,  72,  20,  15],\n",
       "       [130,  76, 164,  33,  44],\n",
       "       [ 67,  39,  85,  27,  34],\n",
       "       [115,  69, 146,  37,  47],\n",
       "       [111,  77, 145,  56,  64]])"
      ]
     },
     "execution_count": 124,
     "metadata": {},
     "output_type": "execute_result"
    }
   ],
   "source": [
    "np.dot(mat1, mat2.T)"
   ]
  },
  {
   "cell_type": "code",
   "execution_count": 125,
   "id": "charged-boring",
   "metadata": {},
   "outputs": [
    {
     "data": {
      "text/plain": [
       "array([[121, 114,  77],\n",
       "       [153, 108,  80],\n",
       "       [135,  69,  84]])"
      ]
     },
     "execution_count": 125,
     "metadata": {},
     "output_type": "execute_result"
    }
   ],
   "source": [
    "np.dot(mat1.T, mat2)"
   ]
  },
  {
   "cell_type": "code",
   "execution_count": 126,
   "id": "supported-archives",
   "metadata": {},
   "outputs": [],
   "source": [
    "mat3 = np.dot(mat1, mat2.T)"
   ]
  },
  {
   "cell_type": "code",
   "execution_count": 127,
   "id": "judicial-insight",
   "metadata": {},
   "outputs": [
    {
     "data": {
      "text/plain": [
       "array([[ 51,  55,  72,  20,  15],\n",
       "       [130,  76, 164,  33,  44],\n",
       "       [ 67,  39,  85,  27,  34],\n",
       "       [115,  69, 146,  37,  47],\n",
       "       [111,  77, 145,  56,  64]])"
      ]
     },
     "execution_count": 127,
     "metadata": {},
     "output_type": "execute_result"
    }
   ],
   "source": [
    "mat3"
   ]
  },
  {
   "cell_type": "code",
   "execution_count": 129,
   "id": "derived-richmond",
   "metadata": {},
   "outputs": [
    {
     "data": {
      "text/plain": [
       "(5, 5)"
      ]
     },
     "execution_count": 129,
     "metadata": {},
     "output_type": "execute_result"
    }
   ],
   "source": [
    "mat3.shape"
   ]
  },
  {
   "cell_type": "markdown",
   "id": "diverse-sweet",
   "metadata": {},
   "source": [
    "## Dot product example (nut butter sale)"
   ]
  },
  {
   "cell_type": "code",
   "execution_count": 134,
   "id": "female-level",
   "metadata": {},
   "outputs": [
    {
     "data": {
      "text/plain": [
       "array([[12, 15,  0],\n",
       "       [ 3,  3,  7],\n",
       "       [ 9, 19, 18],\n",
       "       [ 4,  6, 12],\n",
       "       [ 1,  6,  7]])"
      ]
     },
     "execution_count": 134,
     "metadata": {},
     "output_type": "execute_result"
    }
   ],
   "source": [
    "np.random.seed(0)\n",
    "# Number of jars sold\n",
    "sales_amounts = np.random.randint(20, size=(5,3)) # 5 Rows X 3 Columns \n",
    "sales_amounts"
   ]
  },
  {
   "cell_type": "code",
   "execution_count": 135,
   "id": "whole-overhead",
   "metadata": {},
   "outputs": [],
   "source": [
    "# Create weekly_sales DataFrame\n",
    "\n",
    "# Here index represents rows\n",
    "\n",
    "weekly_sales = pd.DataFrame(sales_amounts, index=[\"Mon\", \"Tue\", \"Wed\", \"Thu\", \"Fri\"],\n",
    "                            columns=[\"Alomnd Butter\", \"Peanut Butter\", \"Cashew Butter\"])"
   ]
  },
  {
   "cell_type": "code",
   "execution_count": 136,
   "id": "answering-austin",
   "metadata": {},
   "outputs": [
    {
     "data": {
      "text/html": [
       "<div>\n",
       "<style scoped>\n",
       "    .dataframe tbody tr th:only-of-type {\n",
       "        vertical-align: middle;\n",
       "    }\n",
       "\n",
       "    .dataframe tbody tr th {\n",
       "        vertical-align: top;\n",
       "    }\n",
       "\n",
       "    .dataframe thead th {\n",
       "        text-align: right;\n",
       "    }\n",
       "</style>\n",
       "<table border=\"1\" class=\"dataframe\">\n",
       "  <thead>\n",
       "    <tr style=\"text-align: right;\">\n",
       "      <th></th>\n",
       "      <th>Alomnd Butter</th>\n",
       "      <th>Peanut Butter</th>\n",
       "      <th>Cashew Butter</th>\n",
       "    </tr>\n",
       "  </thead>\n",
       "  <tbody>\n",
       "    <tr>\n",
       "      <th>Mon</th>\n",
       "      <td>12</td>\n",
       "      <td>15</td>\n",
       "      <td>0</td>\n",
       "    </tr>\n",
       "    <tr>\n",
       "      <th>Tue</th>\n",
       "      <td>3</td>\n",
       "      <td>3</td>\n",
       "      <td>7</td>\n",
       "    </tr>\n",
       "    <tr>\n",
       "      <th>Wed</th>\n",
       "      <td>9</td>\n",
       "      <td>19</td>\n",
       "      <td>18</td>\n",
       "    </tr>\n",
       "    <tr>\n",
       "      <th>Thu</th>\n",
       "      <td>4</td>\n",
       "      <td>6</td>\n",
       "      <td>12</td>\n",
       "    </tr>\n",
       "    <tr>\n",
       "      <th>Fri</th>\n",
       "      <td>1</td>\n",
       "      <td>6</td>\n",
       "      <td>7</td>\n",
       "    </tr>\n",
       "  </tbody>\n",
       "</table>\n",
       "</div>"
      ],
      "text/plain": [
       "     Alomnd Butter  Peanut Butter  Cashew Butter\n",
       "Mon             12             15              0\n",
       "Tue              3              3              7\n",
       "Wed              9             19             18\n",
       "Thu              4              6             12\n",
       "Fri              1              6              7"
      ]
     },
     "execution_count": 136,
     "metadata": {},
     "output_type": "execute_result"
    }
   ],
   "source": [
    "weekly_sales"
   ]
  },
  {
   "cell_type": "code",
   "execution_count": 138,
   "id": "apparent-orlando",
   "metadata": {},
   "outputs": [
    {
     "data": {
      "text/plain": [
       "array([10,  8, 12])"
      ]
     },
     "execution_count": 138,
     "metadata": {},
     "output_type": "execute_result"
    }
   ],
   "source": [
    "# Create prices array\n",
    "prices = np.array([10,8,12]) # Almond Butter Price, Peanut Butter Price, Cashew Butter Price\n",
    "prices"
   ]
  },
  {
   "cell_type": "code",
   "execution_count": 156,
   "id": "opposite-senate",
   "metadata": {},
   "outputs": [
    {
     "data": {
      "text/plain": [
       "(3,)"
      ]
     },
     "execution_count": 156,
     "metadata": {},
     "output_type": "execute_result"
    }
   ],
   "source": [
    "prices.shape"
   ]
  },
  {
   "cell_type": "code",
   "execution_count": 157,
   "id": "second-naples",
   "metadata": {},
   "outputs": [
    {
     "data": {
      "text/plain": [
       "array([[10,  8, 12]])"
      ]
     },
     "execution_count": 157,
     "metadata": {},
     "output_type": "execute_result"
    }
   ],
   "source": [
    "prices.reshape(1,3)"
   ]
  },
  {
   "cell_type": "code",
   "execution_count": 158,
   "id": "regular-skill",
   "metadata": {},
   "outputs": [
    {
     "data": {
      "text/plain": [
       "(1, 3)"
      ]
     },
     "execution_count": 158,
     "metadata": {},
     "output_type": "execute_result"
    }
   ],
   "source": [
    "prices.reshape(1,3).shape"
   ]
  },
  {
   "cell_type": "code",
   "execution_count": 141,
   "id": "executive-impact",
   "metadata": {},
   "outputs": [],
   "source": [
    "butter_prices = pd.DataFrame(prices.reshape(1,3), index=[\"Price\"], columns=[\"Alomnd Butter\", \"Peanut Butter\", \"Cashew Butter\"])"
   ]
  },
  {
   "cell_type": "code",
   "execution_count": 142,
   "id": "recorded-cable",
   "metadata": {},
   "outputs": [
    {
     "data": {
      "text/html": [
       "<div>\n",
       "<style scoped>\n",
       "    .dataframe tbody tr th:only-of-type {\n",
       "        vertical-align: middle;\n",
       "    }\n",
       "\n",
       "    .dataframe tbody tr th {\n",
       "        vertical-align: top;\n",
       "    }\n",
       "\n",
       "    .dataframe thead th {\n",
       "        text-align: right;\n",
       "    }\n",
       "</style>\n",
       "<table border=\"1\" class=\"dataframe\">\n",
       "  <thead>\n",
       "    <tr style=\"text-align: right;\">\n",
       "      <th></th>\n",
       "      <th>Alomnd Butter</th>\n",
       "      <th>Peanut Butter</th>\n",
       "      <th>Cashew Butter</th>\n",
       "    </tr>\n",
       "  </thead>\n",
       "  <tbody>\n",
       "    <tr>\n",
       "      <th>Price</th>\n",
       "      <td>10</td>\n",
       "      <td>8</td>\n",
       "      <td>12</td>\n",
       "    </tr>\n",
       "  </tbody>\n",
       "</table>\n",
       "</div>"
      ],
      "text/plain": [
       "       Alomnd Butter  Peanut Butter  Cashew Butter\n",
       "Price             10              8             12"
      ]
     },
     "execution_count": 142,
     "metadata": {},
     "output_type": "execute_result"
    }
   ],
   "source": [
    "butter_prices"
   ]
  },
  {
   "cell_type": "code",
   "execution_count": 143,
   "id": "utility-toyota",
   "metadata": {},
   "outputs": [
    {
     "ename": "ValueError",
     "evalue": "shapes (3,) and (5,3) not aligned: 3 (dim 0) != 5 (dim 0)",
     "output_type": "error",
     "traceback": [
      "\u001b[0;31m---------------------------------------------------------------------------\u001b[0m",
      "\u001b[0;31mValueError\u001b[0m                                Traceback (most recent call last)",
      "\u001b[0;32m<ipython-input-143-e4058314ac09>\u001b[0m in \u001b[0;36m<module>\u001b[0;34m\u001b[0m\n\u001b[0;32m----> 1\u001b[0;31m \u001b[0mtotal_sales\u001b[0m \u001b[0;34m=\u001b[0m \u001b[0mprices\u001b[0m\u001b[0;34m.\u001b[0m\u001b[0mdot\u001b[0m\u001b[0;34m(\u001b[0m\u001b[0msales_amounts\u001b[0m\u001b[0;34m)\u001b[0m\u001b[0;34m\u001b[0m\u001b[0;34m\u001b[0m\u001b[0m\n\u001b[0m",
      "\u001b[0;31mValueError\u001b[0m: shapes (3,) and (5,3) not aligned: 3 (dim 0) != 5 (dim 0)"
     ]
    }
   ],
   "source": [
    "total_sales = prices.dot(sales_amounts)"
   ]
  },
  {
   "cell_type": "code",
   "execution_count": 144,
   "id": "immediate-print",
   "metadata": {},
   "outputs": [],
   "source": [
    "# SHapes aren't aligned, so, we transpose\n",
    "\n",
    "total_sales = prices.dot(sales_amounts.T)"
   ]
  },
  {
   "cell_type": "code",
   "execution_count": 145,
   "id": "tired-webcam",
   "metadata": {},
   "outputs": [
    {
     "data": {
      "text/plain": [
       "array([240, 138, 458, 232, 142])"
      ]
     },
     "execution_count": 145,
     "metadata": {},
     "output_type": "execute_result"
    }
   ],
   "source": [
    "total_sales"
   ]
  },
  {
   "cell_type": "code",
   "execution_count": 146,
   "id": "excellent-agreement",
   "metadata": {},
   "outputs": [
    {
     "data": {
      "text/html": [
       "<div>\n",
       "<style scoped>\n",
       "    .dataframe tbody tr th:only-of-type {\n",
       "        vertical-align: middle;\n",
       "    }\n",
       "\n",
       "    .dataframe tbody tr th {\n",
       "        vertical-align: top;\n",
       "    }\n",
       "\n",
       "    .dataframe thead th {\n",
       "        text-align: right;\n",
       "    }\n",
       "</style>\n",
       "<table border=\"1\" class=\"dataframe\">\n",
       "  <thead>\n",
       "    <tr style=\"text-align: right;\">\n",
       "      <th></th>\n",
       "      <th>Alomnd Butter</th>\n",
       "      <th>Peanut Butter</th>\n",
       "      <th>Cashew Butter</th>\n",
       "    </tr>\n",
       "  </thead>\n",
       "  <tbody>\n",
       "    <tr>\n",
       "      <th>Price</th>\n",
       "      <td>10</td>\n",
       "      <td>8</td>\n",
       "      <td>12</td>\n",
       "    </tr>\n",
       "  </tbody>\n",
       "</table>\n",
       "</div>"
      ],
      "text/plain": [
       "       Alomnd Butter  Peanut Butter  Cashew Butter\n",
       "Price             10              8             12"
      ]
     },
     "execution_count": 146,
     "metadata": {},
     "output_type": "execute_result"
    }
   ],
   "source": [
    "# Create daily_sales\n",
    "\n",
    "butter_prices"
   ]
  },
  {
   "cell_type": "code",
   "execution_count": 147,
   "id": "adjusted-quilt",
   "metadata": {},
   "outputs": [
    {
     "data": {
      "text/html": [
       "<div>\n",
       "<style scoped>\n",
       "    .dataframe tbody tr th:only-of-type {\n",
       "        vertical-align: middle;\n",
       "    }\n",
       "\n",
       "    .dataframe tbody tr th {\n",
       "        vertical-align: top;\n",
       "    }\n",
       "\n",
       "    .dataframe thead th {\n",
       "        text-align: right;\n",
       "    }\n",
       "</style>\n",
       "<table border=\"1\" class=\"dataframe\">\n",
       "  <thead>\n",
       "    <tr style=\"text-align: right;\">\n",
       "      <th></th>\n",
       "      <th>Alomnd Butter</th>\n",
       "      <th>Peanut Butter</th>\n",
       "      <th>Cashew Butter</th>\n",
       "    </tr>\n",
       "  </thead>\n",
       "  <tbody>\n",
       "    <tr>\n",
       "      <th>Mon</th>\n",
       "      <td>12</td>\n",
       "      <td>15</td>\n",
       "      <td>0</td>\n",
       "    </tr>\n",
       "    <tr>\n",
       "      <th>Tue</th>\n",
       "      <td>3</td>\n",
       "      <td>3</td>\n",
       "      <td>7</td>\n",
       "    </tr>\n",
       "    <tr>\n",
       "      <th>Wed</th>\n",
       "      <td>9</td>\n",
       "      <td>19</td>\n",
       "      <td>18</td>\n",
       "    </tr>\n",
       "    <tr>\n",
       "      <th>Thu</th>\n",
       "      <td>4</td>\n",
       "      <td>6</td>\n",
       "      <td>12</td>\n",
       "    </tr>\n",
       "    <tr>\n",
       "      <th>Fri</th>\n",
       "      <td>1</td>\n",
       "      <td>6</td>\n",
       "      <td>7</td>\n",
       "    </tr>\n",
       "  </tbody>\n",
       "</table>\n",
       "</div>"
      ],
      "text/plain": [
       "     Alomnd Butter  Peanut Butter  Cashew Butter\n",
       "Mon             12             15              0\n",
       "Tue              3              3              7\n",
       "Wed              9             19             18\n",
       "Thu              4              6             12\n",
       "Fri              1              6              7"
      ]
     },
     "execution_count": 147,
     "metadata": {},
     "output_type": "execute_result"
    }
   ],
   "source": [
    "weekly_sales"
   ]
  },
  {
   "cell_type": "code",
   "execution_count": 148,
   "id": "suspected-fever",
   "metadata": {},
   "outputs": [
    {
     "data": {
      "text/plain": [
       "((1, 3), (5, 3))"
      ]
     },
     "execution_count": 148,
     "metadata": {},
     "output_type": "execute_result"
    }
   ],
   "source": [
    "butter_prices.shape, weekly_sales.shape"
   ]
  },
  {
   "cell_type": "code",
   "execution_count": 149,
   "id": "selected-confirmation",
   "metadata": {},
   "outputs": [],
   "source": [
    "daily_sales = butter_prices.dot(weekly_sales.T)"
   ]
  },
  {
   "cell_type": "code",
   "execution_count": 150,
   "id": "actual-beginning",
   "metadata": {},
   "outputs": [
    {
     "data": {
      "text/html": [
       "<div>\n",
       "<style scoped>\n",
       "    .dataframe tbody tr th:only-of-type {\n",
       "        vertical-align: middle;\n",
       "    }\n",
       "\n",
       "    .dataframe tbody tr th {\n",
       "        vertical-align: top;\n",
       "    }\n",
       "\n",
       "    .dataframe thead th {\n",
       "        text-align: right;\n",
       "    }\n",
       "</style>\n",
       "<table border=\"1\" class=\"dataframe\">\n",
       "  <thead>\n",
       "    <tr style=\"text-align: right;\">\n",
       "      <th></th>\n",
       "      <th>Mon</th>\n",
       "      <th>Tue</th>\n",
       "      <th>Wed</th>\n",
       "      <th>Thu</th>\n",
       "      <th>Fri</th>\n",
       "    </tr>\n",
       "  </thead>\n",
       "  <tbody>\n",
       "    <tr>\n",
       "      <th>Price</th>\n",
       "      <td>240</td>\n",
       "      <td>138</td>\n",
       "      <td>458</td>\n",
       "      <td>232</td>\n",
       "      <td>142</td>\n",
       "    </tr>\n",
       "  </tbody>\n",
       "</table>\n",
       "</div>"
      ],
      "text/plain": [
       "       Mon  Tue  Wed  Thu  Fri\n",
       "Price  240  138  458  232  142"
      ]
     },
     "execution_count": 150,
     "metadata": {},
     "output_type": "execute_result"
    }
   ],
   "source": [
    "daily_sales"
   ]
  },
  {
   "cell_type": "code",
   "execution_count": 154,
   "id": "lined-wireless",
   "metadata": {},
   "outputs": [],
   "source": [
    "# Doesn't work without Transpose\n",
    "\n",
    "weekly_sales[\"Total ($)\"] = daily_sales.T"
   ]
  },
  {
   "cell_type": "code",
   "execution_count": 155,
   "id": "downtown-cutting",
   "metadata": {},
   "outputs": [
    {
     "data": {
      "text/html": [
       "<div>\n",
       "<style scoped>\n",
       "    .dataframe tbody tr th:only-of-type {\n",
       "        vertical-align: middle;\n",
       "    }\n",
       "\n",
       "    .dataframe tbody tr th {\n",
       "        vertical-align: top;\n",
       "    }\n",
       "\n",
       "    .dataframe thead th {\n",
       "        text-align: right;\n",
       "    }\n",
       "</style>\n",
       "<table border=\"1\" class=\"dataframe\">\n",
       "  <thead>\n",
       "    <tr style=\"text-align: right;\">\n",
       "      <th></th>\n",
       "      <th>Alomnd Butter</th>\n",
       "      <th>Peanut Butter</th>\n",
       "      <th>Cashew Butter</th>\n",
       "      <th>Total ($)</th>\n",
       "    </tr>\n",
       "  </thead>\n",
       "  <tbody>\n",
       "    <tr>\n",
       "      <th>Mon</th>\n",
       "      <td>12</td>\n",
       "      <td>15</td>\n",
       "      <td>0</td>\n",
       "      <td>240</td>\n",
       "    </tr>\n",
       "    <tr>\n",
       "      <th>Tue</th>\n",
       "      <td>3</td>\n",
       "      <td>3</td>\n",
       "      <td>7</td>\n",
       "      <td>138</td>\n",
       "    </tr>\n",
       "    <tr>\n",
       "      <th>Wed</th>\n",
       "      <td>9</td>\n",
       "      <td>19</td>\n",
       "      <td>18</td>\n",
       "      <td>458</td>\n",
       "    </tr>\n",
       "    <tr>\n",
       "      <th>Thu</th>\n",
       "      <td>4</td>\n",
       "      <td>6</td>\n",
       "      <td>12</td>\n",
       "      <td>232</td>\n",
       "    </tr>\n",
       "    <tr>\n",
       "      <th>Fri</th>\n",
       "      <td>1</td>\n",
       "      <td>6</td>\n",
       "      <td>7</td>\n",
       "      <td>142</td>\n",
       "    </tr>\n",
       "  </tbody>\n",
       "</table>\n",
       "</div>"
      ],
      "text/plain": [
       "     Alomnd Butter  Peanut Butter  Cashew Butter  Total ($)\n",
       "Mon             12             15              0        240\n",
       "Tue              3              3              7        138\n",
       "Wed              9             19             18        458\n",
       "Thu              4              6             12        232\n",
       "Fri              1              6              7        142"
      ]
     },
     "execution_count": 155,
     "metadata": {},
     "output_type": "execute_result"
    }
   ],
   "source": [
    "weekly_sales"
   ]
  },
  {
   "cell_type": "markdown",
   "id": "turned-newsletter",
   "metadata": {},
   "source": [
    "### Comparison Operators"
   ]
  },
  {
   "cell_type": "code",
   "execution_count": 159,
   "id": "enclosed-universal",
   "metadata": {},
   "outputs": [
    {
     "data": {
      "text/plain": [
       "(array([1, 2, 3]),\n",
       " array([[1. , 2. , 3.3],\n",
       "        [2. , 5. , 6.5]]))"
      ]
     },
     "execution_count": 159,
     "metadata": {},
     "output_type": "execute_result"
    }
   ],
   "source": [
    "a1, a2"
   ]
  },
  {
   "cell_type": "code",
   "execution_count": 160,
   "id": "partial-threat",
   "metadata": {},
   "outputs": [
    {
     "data": {
      "text/plain": [
       "array([[False, False, False],\n",
       "       [False, False, False]])"
      ]
     },
     "execution_count": 160,
     "metadata": {},
     "output_type": "execute_result"
    }
   ],
   "source": [
    "a1 > a2"
   ]
  },
  {
   "cell_type": "code",
   "execution_count": 161,
   "id": "correct-matthew",
   "metadata": {},
   "outputs": [
    {
     "data": {
      "text/plain": [
       "array([[False, False,  True],\n",
       "       [ True,  True,  True]])"
      ]
     },
     "execution_count": 161,
     "metadata": {},
     "output_type": "execute_result"
    }
   ],
   "source": [
    "a2 > a1"
   ]
  },
  {
   "cell_type": "code",
   "execution_count": 163,
   "id": "empirical-reading",
   "metadata": {},
   "outputs": [
    {
     "data": {
      "text/plain": [
       "array([[ True,  True, False],\n",
       "       [False, False, False]])"
      ]
     },
     "execution_count": 163,
     "metadata": {},
     "output_type": "execute_result"
    }
   ],
   "source": [
    "bool_array = a1 >= a2\n",
    "bool_array"
   ]
  },
  {
   "cell_type": "code",
   "execution_count": 164,
   "id": "intelligent-obligation",
   "metadata": {},
   "outputs": [
    {
     "data": {
      "text/plain": [
       "(numpy.ndarray, dtype('bool'))"
      ]
     },
     "execution_count": 164,
     "metadata": {},
     "output_type": "execute_result"
    }
   ],
   "source": [
    "type(bool_array), bool_array.dtype"
   ]
  },
  {
   "cell_type": "code",
   "execution_count": 165,
   "id": "express-drill",
   "metadata": {},
   "outputs": [
    {
     "data": {
      "text/plain": [
       "array([False, False, False])"
      ]
     },
     "execution_count": 165,
     "metadata": {},
     "output_type": "execute_result"
    }
   ],
   "source": [
    "a1 > 5"
   ]
  },
  {
   "cell_type": "markdown",
   "id": "medieval-elephant",
   "metadata": {},
   "source": [
    "## 5. Sorting Arrays"
   ]
  },
  {
   "cell_type": "code",
   "execution_count": 166,
   "id": "chronic-keeping",
   "metadata": {},
   "outputs": [
    {
     "data": {
      "text/plain": [
       "array([[7, 8, 1, 5, 9],\n",
       "       [8, 9, 4, 3, 0],\n",
       "       [3, 5, 0, 2, 3]])"
      ]
     },
     "execution_count": 166,
     "metadata": {},
     "output_type": "execute_result"
    }
   ],
   "source": [
    "random_array = np.random.randint(10, size=(3,5))\n",
    "random_array"
   ]
  },
  {
   "cell_type": "code",
   "execution_count": 167,
   "id": "based-interim",
   "metadata": {},
   "outputs": [
    {
     "data": {
      "text/plain": [
       "(3, 5)"
      ]
     },
     "execution_count": 167,
     "metadata": {},
     "output_type": "execute_result"
    }
   ],
   "source": [
    "random_array.shape"
   ]
  },
  {
   "cell_type": "code",
   "execution_count": 169,
   "id": "indie-craps",
   "metadata": {},
   "outputs": [
    {
     "data": {
      "text/plain": [
       "array([[1, 5, 7, 8, 9],\n",
       "       [0, 3, 4, 8, 9],\n",
       "       [0, 2, 3, 3, 5]])"
      ]
     },
     "execution_count": 169,
     "metadata": {},
     "output_type": "execute_result"
    }
   ],
   "source": [
    "np.sort(random_array)"
   ]
  },
  {
   "cell_type": "code",
   "execution_count": 170,
   "id": "expected-public",
   "metadata": {},
   "outputs": [
    {
     "data": {
      "text/plain": [
       "array([[2, 3, 0, 1, 4],\n",
       "       [4, 3, 2, 0, 1],\n",
       "       [2, 3, 0, 4, 1]])"
      ]
     },
     "execution_count": 170,
     "metadata": {},
     "output_type": "execute_result"
    }
   ],
   "source": [
    "np.argsort(random_array)"
   ]
  },
  {
   "cell_type": "code",
   "execution_count": 171,
   "id": "sweet-nicaragua",
   "metadata": {},
   "outputs": [
    {
     "data": {
      "text/plain": [
       "array([[7, 8, 1, 5, 9],\n",
       "       [8, 9, 4, 3, 0],\n",
       "       [3, 5, 0, 2, 3]])"
      ]
     },
     "execution_count": 171,
     "metadata": {},
     "output_type": "execute_result"
    }
   ],
   "source": [
    "random_array"
   ]
  },
  {
   "cell_type": "code",
   "execution_count": 172,
   "id": "certified-macro",
   "metadata": {},
   "outputs": [
    {
     "data": {
      "text/plain": [
       "array([0, 1, 2])"
      ]
     },
     "execution_count": 172,
     "metadata": {},
     "output_type": "execute_result"
    }
   ],
   "source": [
    "np.argsort(a1)"
   ]
  },
  {
   "cell_type": "code",
   "execution_count": 173,
   "id": "flush-respondent",
   "metadata": {},
   "outputs": [
    {
     "data": {
      "text/plain": [
       "0"
      ]
     },
     "execution_count": 173,
     "metadata": {},
     "output_type": "execute_result"
    }
   ],
   "source": [
    "np.argmin(a1)"
   ]
  },
  {
   "cell_type": "code",
   "execution_count": 174,
   "id": "coordinate-coating",
   "metadata": {},
   "outputs": [
    {
     "data": {
      "text/plain": [
       "2"
      ]
     },
     "execution_count": 174,
     "metadata": {},
     "output_type": "execute_result"
    }
   ],
   "source": [
    "np.argmax(a1)"
   ]
  },
  {
   "cell_type": "code",
   "execution_count": 176,
   "id": "southern-reward",
   "metadata": {},
   "outputs": [
    {
     "data": {
      "text/plain": [
       "array([1, 1, 1, 0, 0])"
      ]
     },
     "execution_count": 176,
     "metadata": {},
     "output_type": "execute_result"
    }
   ],
   "source": [
    "np.argmax(random_array, axis=0)"
   ]
  },
  {
   "cell_type": "code",
   "execution_count": 177,
   "id": "verbal-amplifier",
   "metadata": {},
   "outputs": [
    {
     "data": {
      "text/plain": [
       "array([4, 1, 1])"
      ]
     },
     "execution_count": 177,
     "metadata": {},
     "output_type": "execute_result"
    }
   ],
   "source": [
    "np.argmax(random_array, axis=1)"
   ]
  },
  {
   "cell_type": "markdown",
   "id": "grand-manitoba",
   "metadata": {},
   "source": [
    "## 6. Practical Example - Numpy in Action"
   ]
  },
  {
   "cell_type": "code",
   "execution_count": 178,
   "id": "frequent-james",
   "metadata": {},
   "outputs": [
    {
     "name": "stdout",
     "output_type": "stream",
     "text": [
      "<class 'numpy.ndarray'>\n"
     ]
    }
   ],
   "source": [
    "from matplotlib.image import imread\n",
    "\n",
    "panda = imread(\"panda.png\")\n",
    "print(type(panda))"
   ]
  },
  {
   "cell_type": "code",
   "execution_count": 179,
   "id": "technical-recruitment",
   "metadata": {},
   "outputs": [
    {
     "data": {
      "text/plain": [
       "array([[[0.05490196, 0.10588235, 0.06666667],\n",
       "        [0.05490196, 0.10588235, 0.06666667],\n",
       "        [0.05490196, 0.10588235, 0.06666667],\n",
       "        ...,\n",
       "        [0.16470589, 0.12941177, 0.09411765],\n",
       "        [0.16470589, 0.12941177, 0.09411765],\n",
       "        [0.16470589, 0.12941177, 0.09411765]],\n",
       "\n",
       "       [[0.05490196, 0.10588235, 0.06666667],\n",
       "        [0.05490196, 0.10588235, 0.06666667],\n",
       "        [0.05490196, 0.10588235, 0.06666667],\n",
       "        ...,\n",
       "        [0.16470589, 0.12941177, 0.09411765],\n",
       "        [0.16470589, 0.12941177, 0.09411765],\n",
       "        [0.16470589, 0.12941177, 0.09411765]],\n",
       "\n",
       "       [[0.05490196, 0.10588235, 0.06666667],\n",
       "        [0.05490196, 0.10588235, 0.06666667],\n",
       "        [0.05490196, 0.10588235, 0.06666667],\n",
       "        ...,\n",
       "        [0.16470589, 0.12941177, 0.09411765],\n",
       "        [0.16470589, 0.12941177, 0.09411765],\n",
       "        [0.16470589, 0.12941177, 0.09411765]],\n",
       "\n",
       "       ...,\n",
       "\n",
       "       [[0.13333334, 0.07450981, 0.05490196],\n",
       "        [0.12156863, 0.0627451 , 0.04313726],\n",
       "        [0.10980392, 0.05098039, 0.03137255],\n",
       "        ...,\n",
       "        [0.02745098, 0.02745098, 0.03529412],\n",
       "        [0.02745098, 0.02745098, 0.03529412],\n",
       "        [0.02745098, 0.02745098, 0.03529412]],\n",
       "\n",
       "       [[0.13333334, 0.07450981, 0.05490196],\n",
       "        [0.12156863, 0.0627451 , 0.04313726],\n",
       "        [0.12156863, 0.0627451 , 0.04313726],\n",
       "        ...,\n",
       "        [0.02352941, 0.02352941, 0.03137255],\n",
       "        [0.02352941, 0.02352941, 0.03137255],\n",
       "        [0.02352941, 0.02352941, 0.03137255]],\n",
       "\n",
       "       [[0.13333334, 0.07450981, 0.05490196],\n",
       "        [0.12156863, 0.0627451 , 0.04313726],\n",
       "        [0.12156863, 0.0627451 , 0.04313726],\n",
       "        ...,\n",
       "        [0.02352941, 0.02352941, 0.03137255],\n",
       "        [0.02352941, 0.02352941, 0.03137255],\n",
       "        [0.02352941, 0.02352941, 0.03137255]]], dtype=float32)"
      ]
     },
     "execution_count": 179,
     "metadata": {},
     "output_type": "execute_result"
    }
   ],
   "source": [
    "panda"
   ]
  },
  {
   "cell_type": "code",
   "execution_count": 180,
   "id": "ultimate-package",
   "metadata": {},
   "outputs": [
    {
     "data": {
      "text/plain": [
       "(24465000, (2330, 3500, 3), 3)"
      ]
     },
     "execution_count": 180,
     "metadata": {},
     "output_type": "execute_result"
    }
   ],
   "source": [
    "panda.size, panda.shape, panda.ndim"
   ]
  },
  {
   "cell_type": "code",
   "execution_count": 181,
   "id": "confused-microphone",
   "metadata": {},
   "outputs": [
    {
     "data": {
      "text/plain": [
       "array([[[0.05490196, 0.10588235, 0.06666667],\n",
       "        [0.05490196, 0.10588235, 0.06666667],\n",
       "        [0.05490196, 0.10588235, 0.06666667],\n",
       "        ...,\n",
       "        [0.16470589, 0.12941177, 0.09411765],\n",
       "        [0.16470589, 0.12941177, 0.09411765],\n",
       "        [0.16470589, 0.12941177, 0.09411765]],\n",
       "\n",
       "       [[0.05490196, 0.10588235, 0.06666667],\n",
       "        [0.05490196, 0.10588235, 0.06666667],\n",
       "        [0.05490196, 0.10588235, 0.06666667],\n",
       "        ...,\n",
       "        [0.16470589, 0.12941177, 0.09411765],\n",
       "        [0.16470589, 0.12941177, 0.09411765],\n",
       "        [0.16470589, 0.12941177, 0.09411765]],\n",
       "\n",
       "       [[0.05490196, 0.10588235, 0.06666667],\n",
       "        [0.05490196, 0.10588235, 0.06666667],\n",
       "        [0.05490196, 0.10588235, 0.06666667],\n",
       "        ...,\n",
       "        [0.16470589, 0.12941177, 0.09411765],\n",
       "        [0.16470589, 0.12941177, 0.09411765],\n",
       "        [0.16470589, 0.12941177, 0.09411765]],\n",
       "\n",
       "       [[0.05490196, 0.10588235, 0.06666667],\n",
       "        [0.05490196, 0.10588235, 0.06666667],\n",
       "        [0.05490196, 0.10588235, 0.06666667],\n",
       "        ...,\n",
       "        [0.16862746, 0.13333334, 0.09803922],\n",
       "        [0.16862746, 0.13333334, 0.09803922],\n",
       "        [0.16862746, 0.13333334, 0.09803922]],\n",
       "\n",
       "       [[0.05490196, 0.10588235, 0.06666667],\n",
       "        [0.05490196, 0.10588235, 0.06666667],\n",
       "        [0.05490196, 0.10588235, 0.06666667],\n",
       "        ...,\n",
       "        [0.16862746, 0.13333334, 0.09803922],\n",
       "        [0.16862746, 0.13333334, 0.09803922],\n",
       "        [0.16862746, 0.13333334, 0.09803922]]], dtype=float32)"
      ]
     },
     "execution_count": 181,
     "metadata": {},
     "output_type": "execute_result"
    }
   ],
   "source": [
    "panda[:5]"
   ]
  },
  {
   "cell_type": "code",
   "execution_count": 182,
   "id": "backed-bulgarian",
   "metadata": {},
   "outputs": [
    {
     "name": "stdout",
     "output_type": "stream",
     "text": [
      "<class 'numpy.ndarray'>\n"
     ]
    }
   ],
   "source": [
    "car = imread(\"car-photo.png\")\n",
    "print(type(car))"
   ]
  },
  {
   "cell_type": "code",
   "execution_count": 184,
   "id": "stone-mixer",
   "metadata": {},
   "outputs": [
    {
     "data": {
      "text/plain": [
       "array([[[0.5019608 , 0.50980395, 0.4862745 , 1.        ],\n",
       "        [0.3372549 , 0.34509805, 0.30588236, 1.        ],\n",
       "        [0.20392157, 0.21568628, 0.14901961, 1.        ],\n",
       "        ...,\n",
       "        [0.64705884, 0.7058824 , 0.54901963, 1.        ],\n",
       "        [0.59607846, 0.63529414, 0.45882353, 1.        ],\n",
       "        [0.44705883, 0.47058824, 0.3372549 , 1.        ]]], dtype=float32)"
      ]
     },
     "execution_count": 184,
     "metadata": {},
     "output_type": "execute_result"
    }
   ],
   "source": [
    "car[:1]"
   ]
  },
  {
   "cell_type": "code",
   "execution_count": 185,
   "id": "worst-biography",
   "metadata": {},
   "outputs": [
    {
     "name": "stdout",
     "output_type": "stream",
     "text": [
      "<class 'numpy.ndarray'>\n"
     ]
    }
   ],
   "source": [
    "dog = imread(\"dog-photo.png\")\n",
    "print(type(dog))"
   ]
  },
  {
   "cell_type": "code",
   "execution_count": 186,
   "id": "official-permit",
   "metadata": {},
   "outputs": [
    {
     "data": {
      "text/plain": [
       "array([[[0.70980394, 0.80784315, 0.88235295, 1.        ],\n",
       "        [0.72156864, 0.8117647 , 0.8862745 , 1.        ],\n",
       "        [0.7411765 , 0.8156863 , 0.8862745 , 1.        ],\n",
       "        ...,\n",
       "        [0.49803922, 0.6862745 , 0.8392157 , 1.        ],\n",
       "        [0.49411765, 0.68235296, 0.8392157 , 1.        ],\n",
       "        [0.49411765, 0.68235296, 0.8352941 , 1.        ]]], dtype=float32)"
      ]
     },
     "execution_count": 186,
     "metadata": {},
     "output_type": "execute_result"
    }
   ],
   "source": [
    "dog[:1]"
   ]
  },
  {
   "cell_type": "markdown",
   "id": "structural-venue",
   "metadata": {},
   "source": [
    "## NumPy Practice"
   ]
  },
  {
   "cell_type": "code",
   "execution_count": 187,
   "id": "pursuant-substance",
   "metadata": {},
   "outputs": [],
   "source": [
    "import numpy as np"
   ]
  },
  {
   "cell_type": "code",
   "execution_count": 188,
   "id": "collaborative-biology",
   "metadata": {},
   "outputs": [],
   "source": [
    "one_d_array = np.array([1,2,3,4])"
   ]
  },
  {
   "cell_type": "code",
   "execution_count": 189,
   "id": "killing-content",
   "metadata": {},
   "outputs": [
    {
     "data": {
      "text/plain": [
       "1"
      ]
     },
     "execution_count": 189,
     "metadata": {},
     "output_type": "execute_result"
    }
   ],
   "source": [
    "one_d_array.ndim"
   ]
  },
  {
   "cell_type": "code",
   "execution_count": 191,
   "id": "previous-volume",
   "metadata": {},
   "outputs": [
    {
     "data": {
      "text/plain": [
       "2"
      ]
     },
     "execution_count": 191,
     "metadata": {},
     "output_type": "execute_result"
    }
   ],
   "source": [
    "two_d_array = np.array([[2,3], [4,5]])\n",
    "two_d_array.ndim"
   ]
  },
  {
   "cell_type": "code",
   "execution_count": 193,
   "id": "impaired-remedy",
   "metadata": {},
   "outputs": [
    {
     "data": {
      "text/plain": [
       "3"
      ]
     },
     "execution_count": 193,
     "metadata": {},
     "output_type": "execute_result"
    }
   ],
   "source": [
    "three_d_array = np.array([[[2,3],\n",
    "                         [4,5],\n",
    "                         [3,7]],\n",
    "                        [[2,3],\n",
    "                         [4,5],\n",
    "                         [3,7]],\n",
    "                        [[2,3],\n",
    "                         [4,5],\n",
    "                         [3,7]]])\n",
    "\n",
    "three_d_array.ndim"
   ]
  },
  {
   "cell_type": "code",
   "execution_count": 195,
   "id": "specific-gallery",
   "metadata": {},
   "outputs": [
    {
     "data": {
      "text/plain": [
       "(1, numpy.ndarray, 4, dtype('int64'))"
      ]
     },
     "execution_count": 195,
     "metadata": {},
     "output_type": "execute_result"
    }
   ],
   "source": [
    "one_d_array.ndim, type(one_d_array), one_d_array.size, one_d_array.dtype"
   ]
  },
  {
   "cell_type": "code",
   "execution_count": 196,
   "id": "acoustic-ocean",
   "metadata": {},
   "outputs": [
    {
     "data": {
      "text/plain": [
       "(2, numpy.ndarray, 4, dtype('int64'))"
      ]
     },
     "execution_count": 196,
     "metadata": {},
     "output_type": "execute_result"
    }
   ],
   "source": [
    "two_d_array.ndim, type(two_d_array), two_d_array.size, two_d_array.dtype"
   ]
  },
  {
   "cell_type": "code",
   "execution_count": 197,
   "id": "hungry-turner",
   "metadata": {},
   "outputs": [
    {
     "data": {
      "text/plain": [
       "(3, numpy.ndarray, 18, dtype('int64'))"
      ]
     },
     "execution_count": 197,
     "metadata": {},
     "output_type": "execute_result"
    }
   ],
   "source": [
    "three_d_array.ndim, type(three_d_array), three_d_array.size, three_d_array.dtype"
   ]
  },
  {
   "cell_type": "code",
   "execution_count": 198,
   "id": "atlantic-trade",
   "metadata": {},
   "outputs": [],
   "source": [
    "import pandas as pd"
   ]
  },
  {
   "cell_type": "code",
   "execution_count": 199,
   "id": "introductory-alliance",
   "metadata": {},
   "outputs": [
    {
     "data": {
      "text/html": [
       "<div>\n",
       "<style scoped>\n",
       "    .dataframe tbody tr th:only-of-type {\n",
       "        vertical-align: middle;\n",
       "    }\n",
       "\n",
       "    .dataframe tbody tr th {\n",
       "        vertical-align: top;\n",
       "    }\n",
       "\n",
       "    .dataframe thead th {\n",
       "        text-align: right;\n",
       "    }\n",
       "</style>\n",
       "<table border=\"1\" class=\"dataframe\">\n",
       "  <thead>\n",
       "    <tr style=\"text-align: right;\">\n",
       "      <th></th>\n",
       "      <th>0</th>\n",
       "    </tr>\n",
       "  </thead>\n",
       "  <tbody>\n",
       "    <tr>\n",
       "      <th>0</th>\n",
       "      <td>1</td>\n",
       "    </tr>\n",
       "    <tr>\n",
       "      <th>1</th>\n",
       "      <td>2</td>\n",
       "    </tr>\n",
       "    <tr>\n",
       "      <th>2</th>\n",
       "      <td>3</td>\n",
       "    </tr>\n",
       "    <tr>\n",
       "      <th>3</th>\n",
       "      <td>4</td>\n",
       "    </tr>\n",
       "  </tbody>\n",
       "</table>\n",
       "</div>"
      ],
      "text/plain": [
       "   0\n",
       "0  1\n",
       "1  2\n",
       "2  3\n",
       "3  4"
      ]
     },
     "execution_count": 199,
     "metadata": {},
     "output_type": "execute_result"
    }
   ],
   "source": [
    "one_d_array_dataframe = pd.DataFrame(one_d_array)\n",
    "one_d_array_dataframe"
   ]
  },
  {
   "cell_type": "code",
   "execution_count": 200,
   "id": "lightweight-peoples",
   "metadata": {},
   "outputs": [
    {
     "data": {
      "text/plain": [
       "array([[1., 1.],\n",
       "       [1., 1.],\n",
       "       [1., 1.],\n",
       "       [1., 1.],\n",
       "       [1., 1.],\n",
       "       [1., 1.],\n",
       "       [1., 1.],\n",
       "       [1., 1.],\n",
       "       [1., 1.],\n",
       "       [1., 1.]])"
      ]
     },
     "execution_count": 200,
     "metadata": {},
     "output_type": "execute_result"
    }
   ],
   "source": [
    "ones_array_10_2 = np.ones(shape=(10,2))\n",
    "ones_array_10_2"
   ]
  },
  {
   "cell_type": "code",
   "execution_count": 201,
   "id": "visible-auditor",
   "metadata": {},
   "outputs": [
    {
     "data": {
      "text/plain": [
       "array([[[0., 0., 0.],\n",
       "        [0., 0., 0.]],\n",
       "\n",
       "       [[0., 0., 0.],\n",
       "        [0., 0., 0.]],\n",
       "\n",
       "       [[0., 0., 0.],\n",
       "        [0., 0., 0.]],\n",
       "\n",
       "       [[0., 0., 0.],\n",
       "        [0., 0., 0.]],\n",
       "\n",
       "       [[0., 0., 0.],\n",
       "        [0., 0., 0.]],\n",
       "\n",
       "       [[0., 0., 0.],\n",
       "        [0., 0., 0.]],\n",
       "\n",
       "       [[0., 0., 0.],\n",
       "        [0., 0., 0.]]])"
      ]
     },
     "execution_count": 201,
     "metadata": {},
     "output_type": "execute_result"
    }
   ],
   "source": [
    "zeroes_array_7_2_3 = np.zeros(shape=(7,2,3))\n",
    "zeroes_array_7_2_3"
   ]
  },
  {
   "cell_type": "code",
   "execution_count": 202,
   "id": "dominant-express",
   "metadata": {},
   "outputs": [
    {
     "data": {
      "text/plain": [
       "array([ 0,  3,  6,  9, 12, 15, 18, 21, 24, 27, 30, 33, 36, 39, 42, 45, 48,\n",
       "       51, 54, 57, 60, 63, 66, 69, 72, 75, 78, 81, 84, 87, 90, 93, 96, 99])"
      ]
     },
     "execution_count": 202,
     "metadata": {},
     "output_type": "execute_result"
    }
   ],
   "source": [
    "np.arange(start=0, stop=100, step=3)"
   ]
  },
  {
   "cell_type": "code",
   "execution_count": 203,
   "id": "opposite-essay",
   "metadata": {},
   "outputs": [
    {
     "data": {
      "text/plain": [
       "array([[7.99158564, 4.61479362],\n",
       "       [7.80529176, 1.18274426],\n",
       "       [6.39921021, 1.43353287],\n",
       "       [9.44668917, 5.21848322],\n",
       "       [4.1466194 , 2.64555612],\n",
       "       [7.74233689, 4.56150332],\n",
       "       [5.68433949, 0.187898  ]])"
      ]
     },
     "execution_count": 203,
     "metadata": {},
     "output_type": "execute_result"
    }
   ],
   "source": [
    "np.random.uniform(low=0,high=10,size=(7,2))"
   ]
  },
  {
   "cell_type": "code",
   "execution_count": 204,
   "id": "significant-baker",
   "metadata": {},
   "outputs": [
    {
     "data": {
      "text/plain": [
       "array([[0.6176355 , 0.61209572, 0.616934  , 0.94374808, 0.6818203 ],\n",
       "       [0.3595079 , 0.43703195, 0.6976312 , 0.06022547, 0.66676672],\n",
       "       [0.67063787, 0.21038256, 0.1289263 , 0.31542835, 0.36371077]])"
      ]
     },
     "execution_count": 204,
     "metadata": {},
     "output_type": "execute_result"
    }
   ],
   "source": [
    "np.random.uniform(low=0,high=1,size=(3,5))"
   ]
  },
  {
   "cell_type": "code",
   "execution_count": 208,
   "id": "automotive-halifax",
   "metadata": {},
   "outputs": [
    {
     "data": {
      "text/plain": [
       "array([[3.74540119, 9.50714306, 7.31993942, 5.98658484, 1.5601864 ,\n",
       "        1.5599452 ],\n",
       "       [0.58083612, 8.66176146, 6.01115012, 7.08072578, 0.20584494,\n",
       "        9.69909852],\n",
       "       [8.32442641, 2.12339111, 1.81824967, 1.8340451 , 3.04242243,\n",
       "        5.24756432],\n",
       "       [4.31945019, 2.9122914 , 6.11852895, 1.39493861, 2.92144649,\n",
       "        3.66361843]])"
      ]
     },
     "execution_count": 208,
     "metadata": {},
     "output_type": "execute_result"
    }
   ],
   "source": [
    "np.random.seed(42)\n",
    "a = np.random.uniform(low=0, high=10, size=(4,6))\n",
    "a"
   ]
  },
  {
   "cell_type": "code",
   "execution_count": 212,
   "id": "guilty-connectivity",
   "metadata": {},
   "outputs": [
    {
     "data": {
      "text/plain": [
       "array([3.74540119, 0.58083612, 8.32442641, 4.31945019])"
      ]
     },
     "execution_count": 212,
     "metadata": {},
     "output_type": "execute_result"
    }
   ],
   "source": [
    "a[:,0]"
   ]
  },
  {
   "cell_type": "code",
   "execution_count": 216,
   "id": "northern-findings",
   "metadata": {},
   "outputs": [
    {
     "data": {
      "text/plain": [
       "array([[3.74540119, 9.50714306, 7.31993942, 5.98658484, 1.5601864 ,\n",
       "        1.5599452 ],\n",
       "       [0.58083612, 8.66176146, 6.01115012, 7.08072578, 0.20584494,\n",
       "        9.69909852]])"
      ]
     },
     "execution_count": 216,
     "metadata": {},
     "output_type": "execute_result"
    }
   ],
   "source": [
    "a[0:2,:]"
   ]
  },
  {
   "cell_type": "code",
   "execution_count": 217,
   "id": "identical-accent",
   "metadata": {},
   "outputs": [],
   "source": [
    "array_1 = np.random.uniform(low=0, high=10, size=(3,5))\n",
    "array_2 = np.ones(shape=(3,5))"
   ]
  },
  {
   "cell_type": "code",
   "execution_count": 218,
   "id": "present-railway",
   "metadata": {},
   "outputs": [
    {
     "data": {
      "text/plain": [
       "array([[4.56069984, 7.85175961, 1.99673782, 5.14234438, 5.92414569],\n",
       "       [0.46450413, 6.07544852, 1.70524124, 0.65051593, 9.48885537],\n",
       "       [9.65632033, 8.08397348, 3.04613769, 0.97672114, 6.84233027]])"
      ]
     },
     "execution_count": 218,
     "metadata": {},
     "output_type": "execute_result"
    }
   ],
   "source": [
    "array_1"
   ]
  },
  {
   "cell_type": "code",
   "execution_count": 219,
   "id": "black-plymouth",
   "metadata": {},
   "outputs": [
    {
     "data": {
      "text/plain": [
       "array([[1., 1., 1., 1., 1.],\n",
       "       [1., 1., 1., 1., 1.],\n",
       "       [1., 1., 1., 1., 1.]])"
      ]
     },
     "execution_count": 219,
     "metadata": {},
     "output_type": "execute_result"
    }
   ],
   "source": [
    "array_2"
   ]
  },
  {
   "cell_type": "code",
   "execution_count": 225,
   "id": "grand-truth",
   "metadata": {},
   "outputs": [],
   "source": [
    "array_1_and_2_total = array_1 + array_2"
   ]
  },
  {
   "cell_type": "code",
   "execution_count": 226,
   "id": "killing-surfing",
   "metadata": {},
   "outputs": [],
   "source": [
    "array_3 = np.ones(shape=(5,3))"
   ]
  },
  {
   "cell_type": "code",
   "execution_count": 227,
   "id": "controlled-papua",
   "metadata": {},
   "outputs": [
    {
     "data": {
      "text/plain": [
       "array([[1., 1., 1.],\n",
       "       [1., 1., 1.],\n",
       "       [1., 1., 1.],\n",
       "       [1., 1., 1.],\n",
       "       [1., 1., 1.]])"
      ]
     },
     "execution_count": 227,
     "metadata": {},
     "output_type": "execute_result"
    }
   ],
   "source": [
    "array_3"
   ]
  },
  {
   "cell_type": "code",
   "execution_count": 228,
   "id": "recreational-reynolds",
   "metadata": {},
   "outputs": [
    {
     "data": {
      "text/plain": [
       "array([[ 5.56069984,  8.85175961,  2.99673782,  6.14234438,  6.92414569],\n",
       "       [ 1.46450413,  7.07544852,  2.70524124,  1.65051593, 10.48885537],\n",
       "       [10.65632033,  9.08397348,  4.04613769,  1.97672114,  7.84233027]])"
      ]
     },
     "execution_count": 228,
     "metadata": {},
     "output_type": "execute_result"
    }
   ],
   "source": [
    "array_1_and_2_total"
   ]
  },
  {
   "cell_type": "code",
   "execution_count": 230,
   "id": "fourth-juice",
   "metadata": {},
   "outputs": [
    {
     "data": {
      "text/plain": [
       "array([[ 6.56069984,  9.85175961,  3.99673782,  7.14234438,  7.92414569],\n",
       "       [ 2.46450413,  8.07544852,  3.70524124,  2.65051593, 11.48885537],\n",
       "       [11.65632033, 10.08397348,  5.04613769,  2.97672114,  8.84233027]])"
      ]
     },
     "execution_count": 230,
     "metadata": {},
     "output_type": "execute_result"
    }
   ],
   "source": [
    "array_1_and_2_total + array_3.T"
   ]
  },
  {
   "cell_type": "code",
   "execution_count": 231,
   "id": "considerable-albuquerque",
   "metadata": {},
   "outputs": [
    {
     "data": {
      "text/plain": [
       "array([[1., 1., 1., 1., 1.],\n",
       "       [1., 1., 1., 1., 1.],\n",
       "       [1., 1., 1., 1., 1.]])"
      ]
     },
     "execution_count": 231,
     "metadata": {},
     "output_type": "execute_result"
    }
   ],
   "source": [
    "array_4 = np.ones(shape=(3,5))\n",
    "array_4"
   ]
  },
  {
   "cell_type": "code",
   "execution_count": 234,
   "id": "false-belfast",
   "metadata": {},
   "outputs": [
    {
     "data": {
      "text/plain": [
       "array([[0., 0., 0.],\n",
       "       [0., 0., 0.],\n",
       "       [0., 0., 0.],\n",
       "       [0., 0., 0.],\n",
       "       [0., 0., 0.]])"
      ]
     },
     "execution_count": 234,
     "metadata": {},
     "output_type": "execute_result"
    }
   ],
   "source": [
    "array_3 - array_4.T"
   ]
  },
  {
   "cell_type": "code",
   "execution_count": 236,
   "id": "italian-november",
   "metadata": {},
   "outputs": [
    {
     "data": {
      "text/plain": [
       "array([[0., 0., 0.],\n",
       "       [0., 0., 0.],\n",
       "       [0., 0., 0.],\n",
       "       [0., 0., 0.],\n",
       "       [0., 0., 0.]])"
      ]
     },
     "execution_count": 236,
     "metadata": {},
     "output_type": "execute_result"
    }
   ],
   "source": [
    "array_4.T * (array_3 - array_4.T)"
   ]
  },
  {
   "cell_type": "code",
   "execution_count": 237,
   "id": "legal-manhattan",
   "metadata": {},
   "outputs": [
    {
     "data": {
      "text/plain": [
       "array([[ 30.92138273,  78.35364826,   8.98043757,  37.72839453,\n",
       "         47.94379352],\n",
       "       [  2.14477234,  50.06197175,   7.31833015,   2.72420283,\n",
       "        110.01608703],\n",
       "       [113.55716299,  82.51857421,  16.37123022,   3.90742647,\n",
       "         61.50214399]])"
      ]
     },
     "execution_count": 237,
     "metadata": {},
     "output_type": "execute_result"
    }
   ],
   "source": [
    "array_1_and_2_total ** 2"
   ]
  },
  {
   "cell_type": "code",
   "execution_count": 239,
   "id": "concrete-machinery",
   "metadata": {},
   "outputs": [
    {
     "data": {
      "text/plain": [
       "array([[ 30.92138273,  78.35364826,   8.98043757,  37.72839453,\n",
       "         47.94379352],\n",
       "       [  2.14477234,  50.06197175,   7.31833015,   2.72420283,\n",
       "        110.01608703],\n",
       "       [113.55716299,  82.51857421,  16.37123022,   3.90742647,\n",
       "         61.50214399]])"
      ]
     },
     "execution_count": 239,
     "metadata": {},
     "output_type": "execute_result"
    }
   ],
   "source": [
    "np.square(array_1_and_2_total)"
   ]
  },
  {
   "cell_type": "code",
   "execution_count": 240,
   "id": "indoor-nelson",
   "metadata": {},
   "outputs": [
    {
     "data": {
      "text/plain": [
       "5.831049029649558"
      ]
     },
     "execution_count": 240,
     "metadata": {},
     "output_type": "execute_result"
    }
   ],
   "source": [
    "np.mean(array_1_and_2_total)"
   ]
  },
  {
   "cell_type": "code",
   "execution_count": 241,
   "id": "individual-editor",
   "metadata": {},
   "outputs": [
    {
     "data": {
      "text/plain": [
       "10.656320330745594"
      ]
     },
     "execution_count": 241,
     "metadata": {},
     "output_type": "execute_result"
    }
   ],
   "source": [
    "np.max(array_1_and_2_total)"
   ]
  },
  {
   "cell_type": "code",
   "execution_count": 242,
   "id": "authorized-midwest",
   "metadata": {},
   "outputs": [
    {
     "data": {
      "text/plain": [
       "1.4645041271999772"
      ]
     },
     "execution_count": 242,
     "metadata": {},
     "output_type": "execute_result"
    }
   ],
   "source": [
    "np.min(array_1_and_2_total)"
   ]
  },
  {
   "cell_type": "code",
   "execution_count": 243,
   "id": "meaningful-organization",
   "metadata": {},
   "outputs": [
    {
     "data": {
      "text/plain": [
       "3.098737020057212"
      ]
     },
     "execution_count": 243,
     "metadata": {},
     "output_type": "execute_result"
    }
   ],
   "source": [
    "np.std(array_1_and_2_total)"
   ]
  },
  {
   "cell_type": "code",
   "execution_count": 244,
   "id": "included-bread",
   "metadata": {},
   "outputs": [
    {
     "data": {
      "text/plain": [
       "9.602171119473052"
      ]
     },
     "execution_count": 244,
     "metadata": {},
     "output_type": "execute_result"
    }
   ],
   "source": [
    "np.var(array_1_and_2_total)"
   ]
  },
  {
   "cell_type": "code",
   "execution_count": 245,
   "id": "mighty-jaguar",
   "metadata": {},
   "outputs": [
    {
     "data": {
      "text/plain": [
       "array([[[ 5.56069984],\n",
       "        [ 8.85175961],\n",
       "        [ 2.99673782],\n",
       "        [ 6.14234438],\n",
       "        [ 6.92414569]],\n",
       "\n",
       "       [[ 1.46450413],\n",
       "        [ 7.07544852],\n",
       "        [ 2.70524124],\n",
       "        [ 1.65051593],\n",
       "        [10.48885537]],\n",
       "\n",
       "       [[10.65632033],\n",
       "        [ 9.08397348],\n",
       "        [ 4.04613769],\n",
       "        [ 1.97672114],\n",
       "        [ 7.84233027]]])"
      ]
     },
     "execution_count": 245,
     "metadata": {},
     "output_type": "execute_result"
    }
   ],
   "source": [
    "array_1_and_2_total.reshape(3,5,1)"
   ]
  },
  {
   "cell_type": "code",
   "execution_count": 246,
   "id": "distinct-bruce",
   "metadata": {},
   "outputs": [
    {
     "data": {
      "text/plain": [
       "array([[[ 5.56069984,  1.46450413, 10.65632033],\n",
       "        [ 8.85175961,  7.07544852,  9.08397348],\n",
       "        [ 2.99673782,  2.70524124,  4.04613769],\n",
       "        [ 6.14234438,  1.65051593,  1.97672114],\n",
       "        [ 6.92414569, 10.48885537,  7.84233027]]])"
      ]
     },
     "execution_count": 246,
     "metadata": {},
     "output_type": "execute_result"
    }
   ],
   "source": [
    "(array_1_and_2_total.reshape(3,5,1)).T"
   ]
  },
  {
   "cell_type": "code",
   "execution_count": 247,
   "id": "sophisticated-magazine",
   "metadata": {},
   "outputs": [],
   "source": [
    "arr_1 = np.random.uniform(low=0, high=10, size=(3,3))\n",
    "arr_2 = np.random.uniform(low=0, high=10, size=(3,2))"
   ]
  },
  {
   "cell_type": "code",
   "execution_count": 248,
   "id": "ordered-office",
   "metadata": {},
   "outputs": [
    {
     "data": {
      "text/plain": [
       "((3, 3), (3, 2))"
      ]
     },
     "execution_count": 248,
     "metadata": {},
     "output_type": "execute_result"
    }
   ],
   "source": [
    "arr_1.shape, arr_2.shape"
   ]
  },
  {
   "cell_type": "code",
   "execution_count": 250,
   "id": "adjacent-pride",
   "metadata": {},
   "outputs": [
    {
     "data": {
      "text/plain": [
       "array([[ 82.41804722,  61.90578336],\n",
       "       [114.35871604,  94.27643672],\n",
       "       [115.30413663,  82.94587721]])"
      ]
     },
     "execution_count": 250,
     "metadata": {},
     "output_type": "execute_result"
    }
   ],
   "source": [
    "np.dot(arr_1, arr_2)"
   ]
  },
  {
   "cell_type": "code",
   "execution_count": 251,
   "id": "lovely-pierce",
   "metadata": {},
   "outputs": [
    {
     "data": {
      "text/plain": [
       "array([[4.40152494, 1.22038235, 4.9517691 ],\n",
       "       [0.34388521, 9.09320402, 2.58779982],\n",
       "       [6.62522284, 3.11711076, 5.20068021]])"
      ]
     },
     "execution_count": 251,
     "metadata": {},
     "output_type": "execute_result"
    }
   ],
   "source": [
    "arr_1"
   ]
  },
  {
   "cell_type": "code",
   "execution_count": 252,
   "id": "treated-islam",
   "metadata": {},
   "outputs": [
    {
     "data": {
      "text/plain": [
       "array([[5.46710279, 1.84854456],\n",
       "       [9.69584628, 7.75132823],\n",
       "       [9.39498942, 8.9482735 ]])"
      ]
     },
     "execution_count": 252,
     "metadata": {},
     "output_type": "execute_result"
    }
   ],
   "source": [
    "arr_2"
   ]
  },
  {
   "cell_type": "code",
   "execution_count": 254,
   "id": "aggressive-lucas",
   "metadata": {},
   "outputs": [],
   "source": [
    "a = np.random.randint(low=0, high=10, size=(2,2))\n",
    "b = np.random.randint(low=0, high=10, size=(2,2))"
   ]
  },
  {
   "cell_type": "code",
   "execution_count": 255,
   "id": "selective-cooler",
   "metadata": {},
   "outputs": [
    {
     "data": {
      "text/plain": [
       "array([[4, 1],\n",
       "       [4, 7]])"
      ]
     },
     "execution_count": 255,
     "metadata": {},
     "output_type": "execute_result"
    }
   ],
   "source": [
    "a"
   ]
  },
  {
   "cell_type": "code",
   "execution_count": 256,
   "id": "refined-passage",
   "metadata": {},
   "outputs": [
    {
     "data": {
      "text/plain": [
       "array([[9, 8],\n",
       "       [8, 0]])"
      ]
     },
     "execution_count": 256,
     "metadata": {},
     "output_type": "execute_result"
    }
   ],
   "source": [
    "b"
   ]
  },
  {
   "cell_type": "code",
   "execution_count": 257,
   "id": "civil-percentage",
   "metadata": {},
   "outputs": [
    {
     "data": {
      "text/plain": [
       "array([[False, False],\n",
       "       [False,  True]])"
      ]
     },
     "execution_count": 257,
     "metadata": {},
     "output_type": "execute_result"
    }
   ],
   "source": [
    "a > b"
   ]
  },
  {
   "cell_type": "code",
   "execution_count": 258,
   "id": "entertaining-proposition",
   "metadata": {},
   "outputs": [
    {
     "data": {
      "text/plain": [
       "array([[False, False],\n",
       "       [False,  True]])"
      ]
     },
     "execution_count": 258,
     "metadata": {},
     "output_type": "execute_result"
    }
   ],
   "source": [
    "a >= b"
   ]
  },
  {
   "cell_type": "code",
   "execution_count": 259,
   "id": "thick-building",
   "metadata": {},
   "outputs": [
    {
     "data": {
      "text/plain": [
       "array([[False, False],\n",
       "       [False, False]])"
      ]
     },
     "execution_count": 259,
     "metadata": {},
     "output_type": "execute_result"
    }
   ],
   "source": [
    "a > 7"
   ]
  },
  {
   "cell_type": "code",
   "execution_count": 260,
   "id": "nuclear-novelty",
   "metadata": {},
   "outputs": [
    {
     "data": {
      "text/plain": [
       "array([[False, False],\n",
       "       [False, False]])"
      ]
     },
     "execution_count": 260,
     "metadata": {},
     "output_type": "execute_result"
    }
   ],
   "source": [
    "a == b"
   ]
  },
  {
   "cell_type": "code",
   "execution_count": 264,
   "id": "legitimate-coral",
   "metadata": {},
   "outputs": [
    {
     "data": {
      "text/plain": [
       "array([[1, 4],\n",
       "       [4, 7]])"
      ]
     },
     "execution_count": 264,
     "metadata": {},
     "output_type": "execute_result"
    }
   ],
   "source": [
    "c = np.sort(a)\n",
    "c"
   ]
  },
  {
   "cell_type": "code",
   "execution_count": 265,
   "id": "chubby-boutique",
   "metadata": {},
   "outputs": [
    {
     "data": {
      "text/plain": [
       "array([[0, 1],\n",
       "       [0, 1]])"
      ]
     },
     "execution_count": 265,
     "metadata": {},
     "output_type": "execute_result"
    }
   ],
   "source": [
    "np.argsort(a)"
   ]
  },
  {
   "cell_type": "code",
   "execution_count": 266,
   "id": "polyphonic-cartridge",
   "metadata": {},
   "outputs": [
    {
     "data": {
      "text/plain": [
       "3"
      ]
     },
     "execution_count": 266,
     "metadata": {},
     "output_type": "execute_result"
    }
   ],
   "source": [
    "np.argmax(a)"
   ]
  },
  {
   "cell_type": "code",
   "execution_count": 267,
   "id": "numeric-universal",
   "metadata": {},
   "outputs": [
    {
     "data": {
      "text/plain": [
       "0"
      ]
     },
     "execution_count": 267,
     "metadata": {},
     "output_type": "execute_result"
    }
   ],
   "source": [
    "np.argmin(a)"
   ]
  },
  {
   "cell_type": "code",
   "execution_count": 268,
   "id": "cognitive-authority",
   "metadata": {},
   "outputs": [
    {
     "data": {
      "text/plain": [
       "array([1, 1])"
      ]
     },
     "execution_count": 268,
     "metadata": {},
     "output_type": "execute_result"
    }
   ],
   "source": [
    "np.argmax(a, axis=1)"
   ]
  },
  {
   "cell_type": "code",
   "execution_count": 269,
   "id": "pressed-script",
   "metadata": {},
   "outputs": [],
   "source": [
    "mu, sigma = 0, 0.1 # mean and standard deviation\n",
    "\n",
    "s = np.random.normal(mu, sigma, 1000)"
   ]
  },
  {
   "cell_type": "code",
   "execution_count": 271,
   "id": "biological-simulation",
   "metadata": {},
   "outputs": [
    {
     "data": {
      "text/plain": [
       "array([-4.35368025e-03, -2.75300910e-02, -1.56306679e-01, -7.95630992e-02,\n",
       "        9.30584401e-02,  6.77767410e-02,  6.98440259e-02,  1.73602064e-02,\n",
       "        6.62284514e-02,  2.41122163e-02, -1.68205088e-02,  1.16476865e-01,\n",
       "       -2.45747687e-02, -7.69667774e-02,  1.21217234e-01,  1.23349680e-01,\n",
       "       -1.57415529e-01,  6.37952943e-02, -2.04442302e-01,  1.06948089e-01,\n",
       "       -9.33762841e-02,  7.84208188e-02, -6.14875759e-02,  3.32892440e-02,\n",
       "       -1.38071702e-01, -2.80806292e-02, -5.98172637e-03,  9.61173766e-02,\n",
       "        1.79428084e-01,  5.80689542e-02,  2.97650449e-02, -1.02811577e-01,\n",
       "       -1.41859646e-01,  1.90336985e-02,  1.35753829e-02,  6.08089662e-02,\n",
       "        7.04981311e-02,  3.60923378e-02, -1.46696789e-01,  8.92629472e-02,\n",
       "       -1.05257134e-02, -9.55346445e-02, -4.14764634e-02, -1.39874088e-01,\n",
       "       -3.44080541e-02,  7.50785886e-02, -3.27625183e-02, -8.61598054e-02,\n",
       "       -2.58184799e-02,  4.60955615e-02, -1.34938997e-01, -1.01907279e-01,\n",
       "        1.27012239e-02, -1.24944372e-01,  1.94511561e-01, -1.53336458e-02,\n",
       "       -9.06987225e-02, -8.17354155e-02, -4.83122679e-02, -5.69828348e-02,\n",
       "       -2.09159967e-01,  1.26374053e-01, -1.54833400e-03, -2.73764456e-03,\n",
       "        8.17873512e-02, -1.05460447e-01, -7.58327121e-02,  4.57415649e-02,\n",
       "       -6.43780508e-03,  3.44902335e-02, -8.00873354e-03, -2.41380132e-02,\n",
       "        1.43351549e-01,  1.06579371e-01, -2.49875914e-01,  1.48032856e-01,\n",
       "        2.15872852e-01,  1.23177838e-01, -2.14324483e-02, -6.89194210e-02,\n",
       "        7.27833114e-02, -6.19069360e-02,  3.56159830e-02, -2.18808743e-03,\n",
       "        1.21805044e-01, -3.89458024e-02, -4.42802345e-02,  3.78226615e-02,\n",
       "        1.93383980e-01,  8.09708059e-03, -4.16456364e-02,  8.57503252e-02,\n",
       "        7.18128280e-02, -9.51471751e-02, -5.36160100e-02,  1.09652886e-01,\n",
       "        4.28012841e-02, -2.46969887e-01,  4.81979139e-02,  9.26456359e-02,\n",
       "       -8.37581392e-02,  6.77186066e-02,  1.87231912e-01,  3.96373940e-02,\n",
       "       -6.25616295e-02, -5.22461480e-02,  1.30338998e-03,  3.77769592e-02,\n",
       "        6.28245997e-03,  5.01596365e-02, -1.46945393e-02,  1.80622974e-02,\n",
       "        9.64810582e-02, -1.06483115e-01,  1.08711800e-02,  1.05763647e-02,\n",
       "        9.20666716e-02, -2.26722456e-02,  6.53048311e-02,  1.10268747e-01,\n",
       "       -1.84980294e-01,  1.16863124e-01, -9.85381797e-02, -1.09394041e-01,\n",
       "       -2.87945689e-01, -8.03177665e-02, -4.85694465e-04, -3.83323306e-02,\n",
       "       -4.62526860e-02, -1.11249735e-01,  8.67229499e-02,  9.58413836e-02,\n",
       "        4.18118522e-02, -1.88652805e-01,  2.27334516e-01,  1.46974650e-02,\n",
       "        5.39609202e-02, -1.49829564e-01, -1.14434475e-03,  4.13354088e-02,\n",
       "       -1.40898554e-02,  8.72161859e-02,  1.30034515e-01, -1.34352376e-01,\n",
       "        8.50120582e-02,  3.94339951e-02, -4.69599467e-04, -1.57081198e-01,\n",
       "        1.47984878e-01,  3.96774281e-02, -1.78325106e-01, -2.43134460e-02,\n",
       "        3.27223386e-02,  5.06575302e-02, -1.27604794e-02,  3.41590806e-02,\n",
       "        2.11888621e-01,  1.54653676e-01, -9.49519045e-02, -5.96897332e-02,\n",
       "       -1.11204000e-02, -1.74906943e-01, -1.34140350e-01, -1.62169462e-01,\n",
       "       -1.14771997e-01,  1.38960283e-01, -8.55240519e-02, -1.02706176e-01,\n",
       "        8.82837661e-02, -4.49304386e-02,  4.18639469e-02, -7.28179249e-02,\n",
       "       -1.80188797e-01,  4.67717077e-02, -1.55143394e-01, -5.10493220e-02,\n",
       "       -7.32951135e-02,  1.95346473e-02, -5.55944898e-02, -1.27734828e-02,\n",
       "       -1.56055707e-01,  2.00034809e-01, -1.20013174e-01,  1.20138044e-01,\n",
       "        1.49833716e-02,  1.40907368e-02,  3.54419585e-02, -1.88031259e-01,\n",
       "        9.66392002e-02, -5.10944467e-02,  1.21039863e-01, -1.51235965e-02,\n",
       "       -3.74521559e-02, -1.29121611e-01, -7.65509366e-02,  4.22313762e-02,\n",
       "       -1.30791430e-01, -1.99059955e-01, -8.57548886e-02,  8.40005377e-02,\n",
       "        1.78129108e-01, -6.77415668e-02, -1.54882868e-01, -3.43129064e-02,\n",
       "        1.83855514e-02,  5.77897135e-02,  2.13464125e-01,  2.26848822e-02,\n",
       "        1.65546163e-01, -4.62925422e-02,  8.65658145e-03, -5.92882732e-02,\n",
       "       -6.80004334e-02, -2.63405845e-02, -2.80654875e-02, -6.03975919e-02,\n",
       "       -5.49252907e-02,  1.09679625e-01,  2.11311216e-01, -4.98406623e-02,\n",
       "       -3.24395448e-02,  5.24609001e-02,  3.18703334e-01,  8.41635210e-03,\n",
       "        9.72632867e-02,  1.54447484e-01,  3.44068131e-02,  9.26232543e-02,\n",
       "        6.07838540e-02,  1.03251279e-01, -1.03440236e-01,  2.04282942e-02,\n",
       "        4.81217728e-02,  4.67057173e-02,  1.13701742e-01,  4.46890145e-02,\n",
       "       -1.14494852e-01,  5.91316117e-02, -8.83078658e-02, -6.99378048e-02,\n",
       "       -4.18508881e-02, -1.11418777e-02, -1.54372540e-01,  1.11689344e-01,\n",
       "       -1.15551591e-01,  1.57011062e-01, -1.12495174e-01,  1.28192038e-01,\n",
       "       -2.84214576e-03, -1.71642445e-01, -1.04296139e-01,  1.32647167e-01,\n",
       "        4.48648674e-02, -7.87316837e-03, -2.21676105e-01,  1.38956634e-01,\n",
       "        1.87042390e-01,  1.68801703e-01, -6.15245216e-02,  3.82799467e-02,\n",
       "        4.92141034e-02, -1.52745263e-01,  1.80492505e-02,  1.07104152e-01,\n",
       "        7.64478235e-02, -1.11116381e-01, -8.62615122e-02,  7.90593989e-02,\n",
       "        6.32852437e-02, -2.25415868e-01, -2.45659315e-01, -7.65320614e-03,\n",
       "       -5.89652857e-02, -2.98301223e-02, -4.11290591e-02,  9.84023545e-02,\n",
       "        1.03568084e-02,  2.67636014e-02, -1.34231283e-01, -3.36409553e-01,\n",
       "        1.12354178e-01,  2.14320519e-01, -3.42588868e-02,  2.49314542e-02,\n",
       "        3.24518316e-02,  1.67529325e-01,  8.88984294e-02,  4.96064233e-02,\n",
       "        5.55721569e-03,  6.02329215e-03, -1.43946160e-01, -3.83487526e-02,\n",
       "        8.86201966e-02, -2.33703179e-02,  4.43505575e-03, -1.17612748e-01,\n",
       "        4.45506901e-02, -1.46175666e-01,  2.89882812e-02, -1.87224956e-02,\n",
       "       -1.74328525e-01,  1.06947795e-01, -1.63865263e-02,  1.86077805e-01,\n",
       "        1.47825211e-01, -8.79467840e-02, -7.91719979e-02, -1.17197685e-01,\n",
       "       -1.58646362e-01, -4.22177175e-02,  1.44374721e-01, -1.91490737e-01,\n",
       "        8.51944468e-02,  7.68339454e-02,  5.54692794e-02,  7.33173365e-02,\n",
       "       -1.10422179e-01,  7.61571841e-02, -5.49258182e-02, -2.45919336e-01,\n",
       "        5.74129478e-03, -8.44107732e-02,  1.35881663e-01, -2.86346516e-02,\n",
       "        4.56078399e-03,  3.89179576e-02, -2.67400638e-02, -1.03841117e-02,\n",
       "        8.43574023e-02, -1.06632148e-01, -7.01813443e-02, -9.67111055e-02,\n",
       "        1.43675467e-01, -7.01699977e-02, -1.43283259e-02, -6.00604681e-02,\n",
       "       -3.08177953e-02, -7.37429466e-02,  4.62724314e-02, -1.04085015e-01,\n",
       "       -1.35245055e-01, -5.58420369e-02, -7.98235218e-02, -1.33784482e-01,\n",
       "       -3.23372799e-02, -1.66011742e-01,  1.72774763e-01, -1.49260136e-01,\n",
       "       -6.46299499e-02, -4.03554957e-02,  1.68468496e-01, -1.73031531e-01,\n",
       "        1.42050092e-02,  1.03715846e-01, -3.09743103e-02, -1.16981703e-01,\n",
       "       -1.07984964e-02,  1.52710126e-01, -6.15785845e-02,  1.43618347e-01,\n",
       "        2.58666912e-02,  1.23251421e-01,  2.18683092e-02, -4.84375692e-02,\n",
       "        1.63885999e-01,  2.25235353e-02,  1.66429536e-02,  8.07555632e-02,\n",
       "        9.24152383e-02,  8.12856464e-02, -1.35072195e-01, -6.37235532e-02,\n",
       "       -6.56528951e-02, -7.79080229e-02, -8.72103765e-02, -6.71023911e-02,\n",
       "        3.35948743e-02,  4.94409287e-02, -1.63596664e-04, -4.26032339e-02,\n",
       "        1.27546325e-01, -9.15660606e-03,  9.37072520e-02, -5.69326131e-02,\n",
       "        4.13712800e-02,  1.34208850e-01, -2.60878801e-01, -6.55085284e-02,\n",
       "        5.93742176e-02,  1.21281507e-01,  2.03113548e-02,  4.95727293e-03,\n",
       "        1.61057846e-01,  1.27399339e-01, -8.68581937e-02,  1.16410980e-02,\n",
       "        3.60169002e-02,  1.71859937e-01,  8.66070516e-02, -1.03576100e-02,\n",
       "        2.20074329e-02, -1.88388349e-01,  9.68628485e-02,  6.45732789e-02,\n",
       "        1.21215643e-01, -1.44049298e-02,  1.28041069e-02, -4.81338349e-02,\n",
       "       -1.14805491e-01, -6.02256203e-02, -1.81930045e-01,  9.14605516e-02,\n",
       "       -2.17488250e-01,  2.03214253e-01, -1.76412690e-01,  1.49988868e-01,\n",
       "       -9.08054044e-02,  5.61033067e-02, -7.52446700e-02,  1.67374816e-01,\n",
       "        4.37026681e-03,  1.07368201e-01,  7.60480399e-03,  3.52959976e-02,\n",
       "        6.16106654e-02, -5.28723985e-02, -1.28029113e-01, -1.30160333e-01,\n",
       "        5.08425691e-03, -4.88640085e-02, -2.14585676e-01,  5.12941251e-02,\n",
       "       -1.21848964e-01, -1.16032503e-01, -4.16260343e-03, -9.00115658e-02,\n",
       "        1.22505498e-02,  1.97346089e-01, -3.79057646e-02, -1.05957915e-01,\n",
       "        1.81506978e-02, -7.75231794e-02,  2.37514820e-03,  3.15635977e-02,\n",
       "       -3.51969385e-03,  5.65589496e-03,  1.92090381e-02,  1.59711272e-01,\n",
       "       -2.52919304e-02,  1.27434407e-02,  8.66849063e-02,  4.71036831e-02,\n",
       "       -3.58209200e-02,  9.01863437e-02, -8.71246881e-02, -2.26749427e-02,\n",
       "       -7.71086541e-02,  5.76174599e-02,  1.18959978e-01,  2.23336159e-02,\n",
       "        7.52659459e-03, -8.75008667e-02, -7.02551117e-02, -1.19326012e-01,\n",
       "       -2.17668139e-01, -3.91034001e-02, -2.98105269e-02,  2.17284230e-01,\n",
       "        1.56281357e-01,  5.55640240e-02,  2.08447723e-01,  1.39090350e-01,\n",
       "       -2.00756802e-01,  1.06745617e-01,  7.11454265e-02, -2.89377947e-02,\n",
       "       -1.41520252e-01,  5.95401136e-02, -2.07912772e-01, -2.14749624e-03,\n",
       "       -6.17090408e-02, -1.25884204e-01,  1.18880101e-01, -4.13084306e-03,\n",
       "        1.73966329e-02,  9.07871947e-02, -8.79055630e-04,  4.51411199e-02,\n",
       "        8.15851620e-02,  5.66755927e-02,  2.85980166e-02,  1.78311284e-01,\n",
       "        1.24197060e-01, -8.57631692e-03, -9.09692950e-02,  6.38623650e-02,\n",
       "        2.15860648e-02,  1.70899566e-01,  9.87493006e-02,  7.64204388e-02,\n",
       "        1.29515380e-03, -8.75698742e-02, -1.97962969e-02,  4.76828094e-02,\n",
       "       -1.72958009e-01,  1.24171396e-01,  2.06704400e-01, -1.94493929e-01,\n",
       "       -1.40021555e-01,  2.29662464e-02, -5.82580916e-02,  2.60906434e-02,\n",
       "       -7.16740366e-03, -1.02381852e-01,  1.28840634e-01,  4.64516605e-02,\n",
       "       -5.59741975e-02,  1.50502511e-01, -5.08405955e-02, -1.24184052e-01,\n",
       "        1.83511823e-02,  3.53157623e-02,  5.31916892e-02,  6.96351127e-02,\n",
       "        5.16124729e-02,  4.75493641e-02, -5.73753800e-02, -6.80744275e-02,\n",
       "        7.42364916e-02,  2.43456511e-02,  8.20245739e-02, -1.70727716e-01,\n",
       "       -5.00786382e-02,  1.90701890e-01,  5.52533152e-02,  2.95550451e-02,\n",
       "        7.07924367e-02,  2.20845053e-01,  1.99804954e-01, -1.57952076e-01,\n",
       "       -1.21050116e-01, -1.61341066e-01, -7.47107889e-02,  5.49192987e-03,\n",
       "        2.42015144e-02, -1.53047874e-01, -1.86735183e-01, -7.64791387e-02,\n",
       "        9.16171266e-02,  1.09036291e-01,  1.70582486e-01, -3.23302509e-03,\n",
       "        8.28153490e-02,  1.00989496e-01, -4.96859033e-02,  3.87844882e-02,\n",
       "        6.58705126e-02, -9.09157617e-02,  1.64209617e-01, -3.88122827e-03,\n",
       "        8.70352281e-03, -9.47341380e-02, -7.79426196e-02, -2.19651460e-01,\n",
       "        5.51558764e-03,  2.50568921e-01, -1.01861945e-01,  2.97619693e-01,\n",
       "        1.41425126e-01, -4.73588781e-02,  2.72647048e-03, -1.35100308e-02,\n",
       "        1.70616397e-01,  5.17015730e-02,  1.18197405e-01,  3.58171845e-02,\n",
       "       -1.11972521e-02,  3.26423365e-02, -4.06944234e-02, -1.45220404e-01,\n",
       "        8.13688576e-02, -1.50116445e-01, -2.68834177e-02, -4.39864288e-02,\n",
       "        6.43353931e-02,  1.56470458e-01,  1.20497065e-01,  6.72425019e-02,\n",
       "       -6.29871646e-02, -1.83469154e-02, -3.29273707e-02, -4.70281447e-02,\n",
       "       -4.02451109e-02, -4.29138035e-02, -4.73426193e-02,  9.51883018e-02,\n",
       "       -1.05463689e-01, -7.29474102e-02, -1.58340672e-01,  1.41548280e-01,\n",
       "       -7.96502959e-02,  6.60775232e-02,  4.75318860e-02,  1.31883862e-01,\n",
       "       -2.10016698e-02, -9.47539787e-02, -1.55574998e-01, -2.78463564e-01,\n",
       "        1.61353226e-02,  7.75472572e-02,  4.71688105e-02, -1.52976430e-01,\n",
       "        1.03882615e-01, -6.98216028e-02, -9.06903494e-02, -7.20632235e-02,\n",
       "        7.84089225e-03, -1.48470157e-01, -3.70359137e-03,  4.29448245e-02,\n",
       "        1.10732390e-01,  1.75956657e-02, -1.33962850e-01,  1.48890228e-02,\n",
       "       -1.06025827e-01, -1.11794516e-01, -1.36270360e-01, -1.91125368e-01,\n",
       "       -5.67163168e-02,  1.12888874e-01,  2.25648402e-01, -5.73585158e-02,\n",
       "        1.08610553e-01, -3.94582318e-02, -1.65073572e-01,  7.00942261e-02,\n",
       "        2.34814087e-02,  1.81801961e-01, -1.53467848e-01,  2.79603271e-01,\n",
       "        1.59171732e-01, -1.79235736e-03, -2.98637792e-02, -7.15809869e-02,\n",
       "        1.09732639e-02, -1.83936155e-02,  5.13795414e-02, -2.94366661e-02,\n",
       "        1.41496369e-01,  1.25046031e-02, -2.56817028e-02,  1.02428658e-01,\n",
       "       -1.62252363e-01,  3.40988352e-02,  2.55713364e-03, -1.41085053e-01,\n",
       "       -1.70850328e-01,  1.01034500e-01,  9.62790690e-02,  1.72558430e-02,\n",
       "        1.71665778e-01,  4.40968182e-02,  1.24980532e-01,  4.20324587e-02,\n",
       "       -2.75809566e-02, -1.05753125e-01, -6.03436255e-02, -2.57122271e-02,\n",
       "        1.36315310e-01,  7.69919559e-02,  3.30319068e-02,  8.70009908e-02,\n",
       "        5.27383716e-02,  2.61937611e-02, -1.49865940e-01,  1.13915757e-01,\n",
       "       -4.58511848e-02,  1.08854028e-01,  1.18521029e-01, -6.70039194e-02,\n",
       "        9.49716081e-02, -3.60987479e-02, -3.55032328e-02,  2.57473235e-02,\n",
       "        2.84472589e-02,  3.85515154e-03, -1.33428802e-01, -1.21446639e-02,\n",
       "        2.27847873e-01, -2.78400423e-01,  8.69740440e-02,  1.05712493e-01,\n",
       "       -1.35834772e-01, -4.69438913e-02, -1.00071716e-01,  1.85396538e-01,\n",
       "        1.10302527e-01,  1.15142537e-01,  1.20647226e-02,  1.31209195e-01,\n",
       "       -8.23656706e-04,  1.35915763e-01, -1.48696424e-02, -6.79241917e-02,\n",
       "        1.81095027e-01, -2.08487607e-03, -8.98799908e-02, -9.09633897e-02,\n",
       "       -9.06578673e-02,  8.44442351e-02, -9.88628770e-03,  2.29795898e-01,\n",
       "        1.18617818e-01,  2.57138130e-02,  1.40389754e-01, -4.95507336e-02,\n",
       "       -1.85478580e-01, -9.89583058e-02,  1.47207829e-02, -2.22541472e-02,\n",
       "        8.24415388e-02, -1.24613781e-02,  7.48034726e-02,  1.50097163e-01,\n",
       "       -1.27695851e-02,  5.55145289e-02, -1.75478684e-01, -1.23893979e-02,\n",
       "       -1.23195813e-01,  1.45226777e-02,  2.35999757e-02,  2.32676358e-02,\n",
       "       -4.80122590e-02,  2.29846886e-01, -1.26802151e-01, -1.32914583e-01,\n",
       "        1.65497838e-01, -7.04279131e-02, -9.44690688e-02,  2.30291190e-01,\n",
       "        9.85722717e-02, -5.94464548e-02,  2.17507906e-02,  1.94587128e-01,\n",
       "        6.91620681e-02,  1.28614846e-01,  8.04803179e-02,  9.30253346e-02,\n",
       "        3.97416959e-03,  1.13484790e-03,  2.67050385e-02,  7.34452807e-02,\n",
       "       -2.83315316e-02,  1.22053935e-02, -3.10345616e-02,  1.15684822e-02,\n",
       "       -1.25099633e-01,  2.60597747e-01, -7.32940119e-02, -3.61460725e-02,\n",
       "       -8.19264394e-02,  6.15708749e-02, -1.96002631e-02, -9.63807510e-02,\n",
       "        6.56883366e-02,  7.91649148e-02, -6.68763245e-03, -6.63625951e-02,\n",
       "        2.19106601e-01,  3.40067631e-02, -1.27406898e-01,  1.41404046e-01,\n",
       "       -8.55774749e-02,  2.74187834e-01,  7.96578575e-03,  1.01331604e-01,\n",
       "       -2.08001756e-01, -1.28414088e-01,  1.33385962e-01,  3.17815066e-02,\n",
       "        2.04239642e-01,  4.85175105e-02,  1.45296240e-02,  1.71357399e-01,\n",
       "        1.01013700e-01, -1.96261199e-02, -1.09410410e-01, -2.37161566e-01,\n",
       "       -4.37665670e-02, -1.18633510e-01,  2.59770464e-01, -6.50370944e-02,\n",
       "       -6.77709006e-02, -1.52124487e-01, -2.66317329e-02, -6.64534930e-02,\n",
       "        1.73772943e-01,  1.68476159e-02, -8.86402266e-04, -1.34672754e-02,\n",
       "        7.86174920e-02, -4.52328166e-02,  6.67206094e-02,  1.61396982e-01,\n",
       "        4.60075010e-02, -2.49731283e-02, -9.53459171e-02, -2.75123986e-02,\n",
       "        5.63078874e-02, -1.53252734e-01,  8.31542758e-02,  2.07612688e-02,\n",
       "       -1.49189160e-02, -6.59413411e-02, -4.76377701e-02,  5.97306041e-02,\n",
       "       -1.28211526e-02, -5.01139967e-02,  4.68563493e-02,  5.08189777e-02,\n",
       "       -1.24917506e-01,  5.71480697e-02,  2.50169821e-01,  4.69620789e-02,\n",
       "       -1.69900720e-01,  1.77375392e-02, -1.83081537e-01,  3.16737167e-01,\n",
       "        2.23567469e-01, -6.65938483e-02, -2.24566720e-01, -8.78371187e-02,\n",
       "       -1.80990739e-02, -1.76186374e-01, -6.90225150e-03, -1.87578664e-02,\n",
       "        1.25154697e-02,  2.29645177e-02, -9.65617600e-02, -8.53414040e-02,\n",
       "        4.55921645e-03, -6.30992130e-02,  9.07494768e-02,  3.58945498e-03,\n",
       "        1.86500323e-01,  8.20482438e-02,  1.10371387e-01,  1.32566068e-02,\n",
       "        1.57361501e-02,  1.73132058e-01, -3.78292884e-02,  5.46779354e-02,\n",
       "       -2.66237532e-02, -2.68636058e-02, -1.16889627e-01, -7.42514351e-02,\n",
       "       -9.28269451e-02,  5.94368809e-02,  1.04020593e-01, -9.47533736e-03,\n",
       "        2.29627930e-02, -1.52471355e-02, -8.10775920e-02,  8.62263025e-02,\n",
       "        6.52534694e-02, -1.89254599e-01, -2.83109001e-02, -8.82027341e-02,\n",
       "       -3.90938570e-02, -6.70431567e-02, -4.64203707e-03, -3.29914735e-02,\n",
       "       -3.51140694e-02,  1.10738843e-01,  5.57178661e-02, -7.03894650e-02,\n",
       "       -5.55546733e-02,  4.91793055e-02,  4.90419572e-02, -6.03780239e-02,\n",
       "       -2.33990667e-02,  1.84680604e-01, -5.86548089e-02,  1.91080459e-01,\n",
       "        1.10366694e-01,  1.72541628e-01, -6.29071972e-02, -1.68555874e-02,\n",
       "       -4.49163809e-02,  1.12675319e-01, -5.67683773e-02,  7.31215493e-02,\n",
       "        6.78299411e-02, -4.80295307e-03,  1.29865973e-01,  1.07679870e-02,\n",
       "        8.34085719e-02, -4.94703369e-02, -7.23436814e-02,  7.31145529e-02,\n",
       "        4.30840244e-02,  2.43307664e-02, -3.43688348e-02,  1.54920948e-01,\n",
       "       -1.11658580e-01, -1.17134301e-01,  9.42166505e-02,  8.60096384e-02,\n",
       "        3.53762779e-02, -2.87952222e-02,  5.02422129e-02,  1.72083030e-01,\n",
       "        2.51554621e-01, -1.65641371e-01, -4.18920119e-02, -4.81773263e-02,\n",
       "        1.62651947e-01, -2.48129499e-01,  5.13835193e-02, -2.56810308e-02,\n",
       "        1.63811275e-01,  1.50103884e-01,  3.65506735e-02, -1.57972307e-01,\n",
       "       -5.73889482e-02, -4.64391077e-02, -1.32645479e-01,  1.15458428e-01,\n",
       "       -1.45342650e-01,  1.96532751e-01,  1.96282263e-01, -3.85060262e-02,\n",
       "        3.28495370e-02, -7.22834781e-03,  9.01824800e-02,  1.27467734e-01,\n",
       "        2.57996992e-02,  4.69116710e-02, -6.20604264e-02,  4.36713967e-02,\n",
       "        1.62762079e-02, -9.11794489e-02, -1.40371093e-03, -3.83182518e-02,\n",
       "       -6.09495582e-02, -1.14649121e-01,  6.25027332e-03, -7.80474006e-02,\n",
       "       -4.71108172e-02,  1.07512428e-01,  6.32116101e-02, -9.78766648e-02,\n",
       "        3.51891068e-02,  1.32780698e-02,  1.70169621e-01,  1.38314500e-01,\n",
       "       -1.53374873e-01,  8.61127669e-02,  1.26519725e-01,  5.59359209e-02,\n",
       "       -3.35412144e-02,  2.41339392e-01,  6.51409281e-02,  1.97654427e-01,\n",
       "        1.35147843e-01,  4.64134660e-02, -5.79700911e-02, -2.41048782e-03,\n",
       "       -2.21912453e-02, -1.21451896e-01,  6.50281575e-02,  1.56735300e-01,\n",
       "       -2.98303495e-02,  2.16365650e-01, -1.55758279e-01,  1.05436355e-01,\n",
       "        1.67152024e-01, -2.04030581e-02, -1.86056505e-02,  1.04276518e-01,\n",
       "        5.05991110e-02, -1.99741134e-01, -8.43373155e-02, -1.35495480e-03,\n",
       "       -1.36969818e-01, -4.74174316e-02, -1.34468543e-01, -3.70170631e-02,\n",
       "       -3.36622727e-02,  3.51754677e-02, -9.17593240e-03,  5.02789721e-02,\n",
       "        3.83544007e-02,  1.03133999e-01,  8.73783041e-02,  7.68123835e-02,\n",
       "        3.10486743e-01,  3.47402637e-02,  2.59357150e-01,  4.12218402e-02])"
      ]
     },
     "execution_count": 271,
     "metadata": {},
     "output_type": "execute_result"
    }
   ],
   "source": [
    "s"
   ]
  },
  {
   "cell_type": "code",
   "execution_count": 273,
   "id": "offensive-recognition",
   "metadata": {},
   "outputs": [
    {
     "data": {
      "text/plain": [
       "array([[86.59627476, 77.08341709, 12.19787209, 79.7555268 , 91.9491019 ],\n",
       "       [60.46034471, 94.14666028, 82.85704949, 67.03018018, 58.14133843],\n",
       "       [35.50879306, 16.76945708, 60.89043835, 32.49304381, 86.77742809],\n",
       "       [99.3403568 , 75.4903485 ,  9.95768783, 29.57987396, 11.80185354],\n",
       "       [65.40065313, 76.75389559, 92.64180826, 44.37906229, 90.23618931],\n",
       "       [87.91122475, 32.40237596, 87.02116193, 38.19155294, 30.39005818],\n",
       "       [65.25839122, 33.50974156, 63.39066608, 61.37334874, 56.78045381],\n",
       "       [38.66155072, 55.30147244, 60.05206202, 55.02300196, 44.99752582],\n",
       "       [ 2.45203865, 59.11910906, 17.67599413, 64.61502093, 76.17508846],\n",
       "       [50.5440856 , 54.69400283, 95.19637741, 84.86956878, 91.50941508],\n",
       "       [81.56286254, 11.78291584, 15.75019374, 53.13575593, 25.36089622],\n",
       "       [48.19285203, 40.04216706, 55.3920096 , 74.9406959 , 71.8335998 ],\n",
       "       [52.60217912, 82.41694846, 43.65534706, 89.77471469,  8.05674674],\n",
       "       [95.51134297, 65.81461506, 38.62737638, 20.51825853, 48.43913971],\n",
       "       [20.261274  , 17.46682917, 62.11782398, 52.78538773, 67.33950743],\n",
       "       [93.03098186, 53.69376112, 58.51227327,  9.87300758, 72.0459428 ],\n",
       "       [40.59061547, 97.69579863, 82.49422754, 52.72562301, 13.19904276],\n",
       "       [86.08216353, 80.17832845, 19.27392782, 30.23255063, 79.54731856],\n",
       "       [19.33761621, 91.85749643, 43.02821509,  9.6168573 , 81.75911571],\n",
       "       [37.97745862, 53.12342022, 12.1181301 ,  1.25581747, 64.16053537]])"
      ]
     },
     "execution_count": 273,
     "metadata": {},
     "output_type": "execute_result"
    }
   ],
   "source": [
    "np.random.uniform(low=1, high=100, size=(20,5))"
   ]
  },
  {
   "cell_type": "code",
   "execution_count": 278,
   "id": "retired-belief",
   "metadata": {},
   "outputs": [
    {
     "data": {
      "text/plain": [
       "array([  1,   2,   3,   4,   5,   6,   7,   8,   9,  10,  11,  12,  13,\n",
       "        14,  15,  16,  17,  18,  19,  20,  21,  22,  23,  24,  25,  26,\n",
       "        27,  28,  29,  30,  31,  32,  33,  34,  35,  36,  37,  38,  39,\n",
       "        40,  41,  42,  43,  44,  45,  46,  47,  48,  49,  50,  51,  52,\n",
       "        53,  54,  55,  56,  57,  58,  59,  60,  61,  62,  63,  64,  65,\n",
       "        66,  67,  68,  69,  70,  71,  72,  73,  74,  75,  76,  77,  78,\n",
       "        79,  80,  81,  82,  83,  84,  85,  86,  87,  88,  89,  90,  91,\n",
       "        92,  93,  94,  95,  96,  97,  98,  99, 100])"
      ]
     },
     "execution_count": 278,
     "metadata": {},
     "output_type": "execute_result"
    }
   ],
   "source": [
    "j = np.arange(start=1, stop=101, step=1, dtype=int)\n",
    "j"
   ]
  },
  {
   "cell_type": "code",
   "execution_count": 279,
   "id": "southeast-election",
   "metadata": {},
   "outputs": [
    {
     "data": {
      "text/plain": [
       "array([[  1,   2,   3,   4,   5],\n",
       "       [  6,   7,   8,   9,  10],\n",
       "       [ 11,  12,  13,  14,  15],\n",
       "       [ 16,  17,  18,  19,  20],\n",
       "       [ 21,  22,  23,  24,  25],\n",
       "       [ 26,  27,  28,  29,  30],\n",
       "       [ 31,  32,  33,  34,  35],\n",
       "       [ 36,  37,  38,  39,  40],\n",
       "       [ 41,  42,  43,  44,  45],\n",
       "       [ 46,  47,  48,  49,  50],\n",
       "       [ 51,  52,  53,  54,  55],\n",
       "       [ 56,  57,  58,  59,  60],\n",
       "       [ 61,  62,  63,  64,  65],\n",
       "       [ 66,  67,  68,  69,  70],\n",
       "       [ 71,  72,  73,  74,  75],\n",
       "       [ 76,  77,  78,  79,  80],\n",
       "       [ 81,  82,  83,  84,  85],\n",
       "       [ 86,  87,  88,  89,  90],\n",
       "       [ 91,  92,  93,  94,  95],\n",
       "       [ 96,  97,  98,  99, 100]])"
      ]
     },
     "execution_count": 279,
     "metadata": {},
     "output_type": "execute_result"
    }
   ],
   "source": [
    "j.reshape(20,5)"
   ]
  },
  {
   "cell_type": "code",
   "execution_count": null,
   "id": "exact-decrease",
   "metadata": {},
   "outputs": [],
   "source": []
  }
 ],
 "metadata": {
  "kernelspec": {
   "display_name": "Python 3",
   "language": "python",
   "name": "python3"
  },
  "language_info": {
   "codemirror_mode": {
    "name": "ipython",
    "version": 3
   },
   "file_extension": ".py",
   "mimetype": "text/x-python",
   "name": "python",
   "nbconvert_exporter": "python",
   "pygments_lexer": "ipython3",
   "version": "3.8.5"
  }
 },
 "nbformat": 4,
 "nbformat_minor": 5
}
